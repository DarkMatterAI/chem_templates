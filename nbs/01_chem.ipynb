{
 "cells": [
  {
   "cell_type": "markdown",
   "metadata": {},
   "source": [
    "# Chem\n",
    "\n",
    "> Chemistry related functions"
   ]
  },
  {
   "cell_type": "code",
   "execution_count": null,
   "metadata": {},
   "outputs": [],
   "source": [
    "#| default_exp chem"
   ]
  },
  {
   "cell_type": "code",
   "execution_count": null,
   "metadata": {},
   "outputs": [],
   "source": [
    "#| hide\n",
    "from nbdev.showdoc import *\n",
    "%load_ext autoreload\n",
    "%autoreload 2"
   ]
  },
  {
   "cell_type": "code",
   "execution_count": null,
   "metadata": {},
   "outputs": [],
   "source": [
    "#| export\n",
    "from chem_templates.imports import *\n",
    "from chem_templates.utils import *\n",
    "import rdkit\n",
    "from rdkit import Chem"
   ]
  },
  {
   "cell_type": "markdown",
   "metadata": {},
   "source": [
    "## RDKit i/o\n",
    "\n",
    "Functions for converting between SMILES strings and RDKit mol objects"
   ]
  },
  {
   "cell_type": "code",
   "execution_count": null,
   "metadata": {},
   "outputs": [],
   "source": [
    "#| export\n",
    "def to_mol(smile: str) -> Union[Chem.Mol, None]:\n",
    "\n",
    "    mol = Chem.MolFromSmiles(smile)\n",
    "    if mol is not None:\n",
    "        try:\n",
    "            Chem.SanitizeMol(mol)\n",
    "        except:\n",
    "            mol = None\n",
    "        \n",
    "    return mol\n",
    "\n",
    "def to_smile(mol: Chem.Mol) -> str:\n",
    "    smile = Chem.MolToSmiles(mol)\n",
    "    return smile\n",
    "\n",
    "def to_kekule(smile: str) -> str:\n",
    "    return Chem.MolToSmiles(to_mol(smile), kekuleSmiles=True)\n",
    "\n",
    "def canon_smile(smile: str) -> str:\n",
    "    try:\n",
    "        return Chem.CanonSmiles(smile)\n",
    "    except:\n",
    "        return ''\n",
    "    \n",
    "def remove_stereo(mol: Chem.Mol) -> Chem.Mol:\n",
    "    Chem.rdmolops.RemoveStereochemistry(mol)\n",
    "    return mol\n",
    "\n",
    "def remove_stereo_smile(smile: str) -> str:\n",
    "    if '@' in smile:\n",
    "        mol = to_mol(smile)\n",
    "        mol = remove_stereo(mol)\n",
    "        smile = to_smile(mol)\n",
    "    return smile"
   ]
  },
  {
   "cell_type": "code",
   "execution_count": null,
   "metadata": {},
   "outputs": [],
   "source": [
    "assert type(to_mol('CCC')) == Chem.Mol\n",
    "assert type(to_smile(Chem.MolFromSmiles('CCC'))) == str"
   ]
  },
  {
   "cell_type": "code",
   "execution_count": null,
   "metadata": {},
   "outputs": [],
   "source": [
    "#| export\n",
    "class Molecule():\n",
    "    def __init__(self, smile: str, data: Optional[dict]=None):\n",
    "        self.smile = canon_smile(smile)\n",
    "        self.mol = to_mol(self.smile)\n",
    "        self.valid = (self.mol is not None) and (self.smile != '')\n",
    "        \n",
    "        self.data = {}\n",
    "        self.add_data(data)\n",
    "            \n",
    "    def add_data(self, data: Optional[dict]=None):\n",
    "        if data is not None:\n",
    "            self.data.update(data)"
   ]
  },
  {
   "cell_type": "code",
   "execution_count": null,
   "metadata": {},
   "outputs": [],
   "source": [
    "#| export\n",
    "class Reaction():\n",
    "    def __init__(self, reaction_smarts: str):\n",
    "        self.reaction_smarts = reaction_smarts\n",
    "        self.reaction = AllChem.ReactionFromSmarts(self.reaction_smarts)"
   ]
  },
  {
   "cell_type": "code",
   "execution_count": null,
   "metadata": {},
   "outputs": [],
   "source": [
    "#| hide\n",
    "import nbdev; nbdev.nbdev_export()"
   ]
  },
  {
   "cell_type": "code",
   "execution_count": null,
   "metadata": {},
   "outputs": [],
   "source": []
  }
 ],
 "metadata": {
  "kernelspec": {
   "display_name": "chem_templates",
   "language": "python",
   "name": "chem_templates"
  }
 },
 "nbformat": 4,
 "nbformat_minor": 4
}
