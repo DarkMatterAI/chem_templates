{
 "cells": [
  {
   "cell_type": "code",
   "execution_count": null,
   "metadata": {},
   "outputs": [],
   "source": [
    "#| hide\n",
    "from chem_templates.utils import *"
   ]
  },
  {
   "cell_type": "markdown",
   "metadata": {},
   "source": [
    "# chem_templates\n",
    "\n",
    "> A python library for controlling chemical space"
   ]
  },
  {
   "cell_type": "markdown",
   "metadata": {},
   "source": [
    "`chem_templates` provides an expressive and flexible way of defining desired chemical spaces\n",
    "\n",
    "See the [documentation](https://darkmatterai.github.io/chem_templates/) for documentation and tutorials"
   ]
  },
  {
   "cell_type": "markdown",
   "metadata": {},
   "source": [
    "## Install"
   ]
  },
  {
   "cell_type": "markdown",
   "metadata": {},
   "source": [
    "```sh\n",
    "pip install chem_templates\n",
    "```"
   ]
  },
  {
   "cell_type": "markdown",
   "metadata": {},
   "source": [
    "## Basic Usage\n",
    "\n",
    "For more detail on the API, see the [basic tutorial](https://darkmatterai.github.io/emb_opt/tutorials/basic_example.html)\n",
    "\n",
    "```python\n",
    "from rdkit.Chem import rdMolDescriptors, Descriptors\n",
    "from chem_templates.filter import RangeFunctionFilter\n",
    "from chem_templates.chem import Molecule\n",
    "from chem_templates.template import Template\n",
    "\n",
    "def hbd(molecule):\n",
    "    return rdMolDescriptors.CalcNumHBD(molecule.mol)\n",
    "\n",
    "def hba(molecule):\n",
    "    return rdMolDescriptors.CalcNumHBA(molecule.mol)\n",
    "\n",
    "def molwt(molecule):\n",
    "    return rdMolDescriptors.CalcExactMolWt(molecule.mol)\n",
    "\n",
    "def logp(molecule):\n",
    "    return Descriptors.MolLogP(molecule.mol)\n",
    "\n",
    "hbd_filter = RangeFunctionFilter(hbd, 'hydrogen_bond_donor', None, 5)\n",
    "hba_filter = RangeFunctionFilter(hba, 'hydrogen_bond_acceptor', None, 10)\n",
    "molwt_filter = RangeFunctionFilter(molwt, 'mol_weight', None, 500)\n",
    "logp_filter = RangeFunctionFilter(logp, 'logp', None, 5)\n",
    "\n",
    "filters = [\n",
    "    hbd_filter,\n",
    "    hba_filter,\n",
    "    molwt_filter,\n",
    "    logp_filter\n",
    "]\n",
    "\n",
    "ro5_template = Template(filters)\n",
    "\n",
    "smiles = ['C=CCNC(=O)N1CCN(C(=O)[C@H]2C[C@@H]2c2cccc(F)c2F)CC1',\n",
    " 'C[C@@H]1CCCC[C@@H]1OCC(=O)OCc1nnc(-c2cccc(Br)c2)o1',\n",
    " 'CCC[C@@H](OC)C(=O)N[C@@H](CNc1cnc(F)cn1)C(C)C',\n",
    " 'CC(C)/C=C\\\\C(=O)N1CCC[C@@](CO)(NC(=O)OC(C)(C)C)C1',\n",
    " 'C(c1ccccc1)CCC[C@@H](C)c1nnc(N2CCN(C(=O)OC(C)(C)C)[C@@H](C)C2)n1Cc1csc(C(C)(C)C)n1',\n",
    " 'O=C(c1cccc(F)c1)N1CC[C@]2(CN(CC3=CCCCC3)CCO2)C1']\n",
    "\n",
    "molecules = [Molecule(i) for i in smiles]\n",
    "results = [ro5_template(i).result for i in molecules]\n",
    ">[True, True, True, True, False, True]\n",
    "```"
   ]
  },
  {
   "cell_type": "code",
   "execution_count": null,
   "metadata": {},
   "outputs": [],
   "source": []
  }
 ],
 "metadata": {
  "kernelspec": {
   "display_name": "chem_templates",
   "language": "python",
   "name": "chem_templates"
  }
 },
 "nbformat": 4,
 "nbformat_minor": 4
}
