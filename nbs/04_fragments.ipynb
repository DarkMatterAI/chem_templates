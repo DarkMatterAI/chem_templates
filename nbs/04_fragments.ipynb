{
 "cells": [
  {
   "cell_type": "markdown",
   "metadata": {},
   "source": [
    "# Fragments\n",
    "\n",
    "> fragment related functions"
   ]
  },
  {
   "cell_type": "code",
   "execution_count": null,
   "metadata": {},
   "outputs": [],
   "source": [
    "#| default_exp fragments"
   ]
  },
  {
   "cell_type": "code",
   "execution_count": null,
   "metadata": {},
   "outputs": [],
   "source": [
    "#| hide\n",
    "from nbdev.showdoc import *\n",
    "%load_ext autoreload\n",
    "%autoreload 2"
   ]
  },
  {
   "cell_type": "code",
   "execution_count": null,
   "metadata": {},
   "outputs": [
    {
     "name": "stderr",
     "output_type": "stream",
     "text": [
      "/home/dmai/miniconda3/envs/chem_templates/lib/python3.9/site-packages/tqdm/auto.py:22: TqdmWarning: IProgress not found. Please update jupyter and ipywidgets. See https://ipywidgets.readthedocs.io/en/stable/user_install.html\n",
      "  from .autonotebook import tqdm as notebook_tqdm\n"
     ]
    }
   ],
   "source": [
    "#| export\n",
    "\n",
    "from __future__ import annotations\n",
    "from chem_templates.imports import *\n",
    "from chem_templates.utils import *\n",
    "from chem_templates.chem import to_mol, to_smile, canon_smile, Molecule\n",
    "\n",
    "from rdkit import Chem"
   ]
  },
  {
   "cell_type": "code",
   "execution_count": null,
   "metadata": {},
   "outputs": [],
   "source": [
    "#| export\n",
    "\n",
    "def fuse_mol_on_atom_mapping(mol: Chem.Mol) -> Union[Chem.Mol, None]:\n",
    "    try:\n",
    "        return Chem.molzip(mol)\n",
    "    except:\n",
    "        return None\n",
    "    \n",
    "def fuse_smile_on_atom_mapping(smile: str) -> str:\n",
    "    mol = to_mol(smile)\n",
    "    mol = fuse_mol_on_atom_mapping(mol)\n",
    "    if mol is not None:\n",
    "        return to_smile(mol)\n",
    "    else:\n",
    "        return ''"
   ]
  },
  {
   "cell_type": "code",
   "execution_count": null,
   "metadata": {},
   "outputs": [],
   "source": [
    "assert fuse_smile_on_atom_mapping('[*:1]C.[*:1]N') == 'CN'"
   ]
  },
  {
   "cell_type": "code",
   "execution_count": null,
   "metadata": {},
   "outputs": [],
   "source": [
    "#| export\n",
    "\n",
    "def remove_fragment_mapping(smile: str) -> str:\n",
    "    patt = re.compile('\\[\\*(.*?)]')\n",
    "    smile = patt.sub('[*]', smile)\n",
    "    return canon_smile(smile)\n",
    "\n",
    "def add_fragment_mapping(smile:    str, \n",
    "                         map_nums: list[int]) -> str:\n",
    "    \n",
    "    assert smile.count('*') == len(map_nums)\n",
    "    \n",
    "    smile = remove_fragment_mapping(smile)\n",
    "    \n",
    "    new_smile = ''\n",
    "    map_idx = 0\n",
    "    for char in smile:\n",
    "        if char=='*':\n",
    "            new_smile += f'[*:{map_nums[map_idx]}]'\n",
    "            map_idx += 1\n",
    "        else:\n",
    "            new_smile += char\n",
    "            \n",
    "    return canon_smile(new_smile)"
   ]
  },
  {
   "cell_type": "code",
   "execution_count": null,
   "metadata": {},
   "outputs": [],
   "source": [
    "assert add_fragment_mapping('*C', [1]) == 'C[*:1]'\n",
    "assert remove_fragment_mapping('C[*:1]') == '*C'"
   ]
  },
  {
   "cell_type": "code",
   "execution_count": null,
   "metadata": {},
   "outputs": [],
   "source": [
    "#| export\n",
    "\n",
    "def get_dummy_mol(name:     str, \n",
    "                  map_nums: list[int],\n",
    "                  id:       Optional[int]=None\n",
    "                 ) -> Chem.Mol:\n",
    "    templates = {\n",
    "        0 : '[Zr]',\n",
    "        1 : '[*][Zr]',\n",
    "        2 : '[*][Zr][*]',\n",
    "        3 : '[*][Zr]([*])[*]',\n",
    "        4 : '[*][Zr]([*])([*])[*]'\n",
    "    }\n",
    "    \n",
    "    num_attachments = len(map_nums)\n",
    "    mapping_idx = 0\n",
    "    template = templates[num_attachments]\n",
    "    template = add_fragment_mapping(template, map_nums)\n",
    "    \n",
    "    if id is not None:\n",
    "        template = template.replace('Zr', f'Zr:{id}')\n",
    "            \n",
    "    mol = to_mol(template)\n",
    "    for atom in mol.GetAtoms():\n",
    "        if atom.GetAtomicNum() != 0:\n",
    "            atom.SetProp('atomLabel', name)\n",
    "            \n",
    "    return mol\n",
    "\n",
    "def combine_dummies(dummies: list[Chem.Mol], \n",
    "                    fuse:    bool=True) -> Chem.Mol:\n",
    "    combo = Chem.MolFromSmiles('')\n",
    "    for mol in dummies:\n",
    "        combo = Chem.CombineMols(combo, mol)\n",
    "        \n",
    "    if fuse:\n",
    "        combo = Chem.molzip(combo)\n",
    "        \n",
    "    return combo"
   ]
  },
  {
   "cell_type": "code",
   "execution_count": null,
   "metadata": {},
   "outputs": [],
   "source": [
    "dummies = [get_dummy_mol('R1', [1]), get_dummy_mol('R2', [1])]\n",
    "assert [to_smile(i) for i in dummies] == ['[Zr][*:1]', '[Zr][*:1]']\n",
    "fused = combine_dummies(dummies)\n",
    "assert to_smile(fused) == '[Zr][Zr]'"
   ]
  },
  {
   "cell_type": "code",
   "execution_count": null,
   "metadata": {},
   "outputs": [],
   "source": [
    "#| export\n",
    "\n",
    "def is_mapped(smile: str) -> bool:\n",
    "    patt = re.compile('\\[\\*(.*?)]')\n",
    "    return len(patt.findall(smile)) == smile.count('*')\n",
    "\n",
    "def match_mapping(molecule: Molecule, mapping_idxs: list[int]):\n",
    "    patt = re.compile('\\[\\*(.*?)]')\n",
    "    frag_idxs = [int(i[1:]) for i in patt.findall(molecule.smile)]\n",
    "    return sorted(frag_idxs) == sorted(mapping_idxs)"
   ]
  },
  {
   "cell_type": "code",
   "execution_count": null,
   "metadata": {},
   "outputs": [],
   "source": [
    "assert not is_mapped('*C')\n",
    "assert is_mapped('[*:1]C')\n",
    "assert not is_mapped('[*:1]C*')\n",
    "assert match_mapping(Molecule('[*:2]C'), [2])\n",
    "assert not match_mapping(Molecule('[*:2]C'), [1])"
   ]
  },
  {
   "cell_type": "code",
   "execution_count": null,
   "metadata": {},
   "outputs": [],
   "source": [
    "#| export\n",
    "\n",
    "def generate_mapping_permutations(smile:    str, \n",
    "                                  map_nums: list[int], \n",
    "                                  exact:    bool=False) -> list[str]:\n",
    "    \n",
    "    n_attachments = smile.count('*')\n",
    "    \n",
    "    if map_nums is None:\n",
    "        map_nums = list(range(1, n_attachments+1))\n",
    "    \n",
    "    if exact:\n",
    "        assert n_attachments == len(map_nums)\n",
    "    else:\n",
    "        assert n_attachments <= len(map_nums)\n",
    "    \n",
    "    perms = permutations(map_nums, n_attachments)\n",
    "    outputs = []\n",
    "    for p in perms:\n",
    "        outputs.append(add_fragment_mapping(smile, p))\n",
    "        \n",
    "    return outputs"
   ]
  },
  {
   "cell_type": "code",
   "execution_count": null,
   "metadata": {},
   "outputs": [],
   "source": [
    "assert generate_mapping_permutations('*C*', [2,3,4]) == ['C([*:2])[*:3]',\n",
    " 'C([*:2])[*:4]',\n",
    " 'C([*:2])[*:3]',\n",
    " 'C([*:3])[*:4]',\n",
    " 'C([*:2])[*:4]',\n",
    " 'C([*:3])[*:4]']"
   ]
  },
  {
   "cell_type": "code",
   "execution_count": null,
   "metadata": {},
   "outputs": [],
   "source": [
    "#| export\n",
    "\n",
    "def match_and_map(fragment: str, mapping_idxs: list[int]) -> list[str]:\n",
    "    outputs = []\n",
    "    if is_mapped(fragment):\n",
    "        if match_mapping(Molecule(fragment), mapping_idxs):\n",
    "            outputs = [fragment]\n",
    "    elif fragment.count('*')==len(mapping_idxs):\n",
    "        outputs = generate_mapping_permutations(fragment, mapping_idxs, exact=True)\n",
    "    \n",
    "    return outputs"
   ]
  },
  {
   "cell_type": "code",
   "execution_count": null,
   "metadata": {},
   "outputs": [],
   "source": [
    "assert match_and_map('*C*', [1,2]) == ['C([*:1])[*:2]', 'C([*:1])[*:2]']\n",
    "assert match_and_map('C([*:1])[*:2]', [4,5]) == []\n",
    "assert match_and_map('C([*:1])[*:2]', [1,2]) == ['C([*:1])[*:2]']"
   ]
  },
  {
   "cell_type": "code",
   "execution_count": null,
   "metadata": {},
   "outputs": [],
   "source": []
  },
  {
   "cell_type": "code",
   "execution_count": null,
   "metadata": {},
   "outputs": [],
   "source": [
    "#| hide\n",
    "import nbdev; nbdev.nbdev_export()"
   ]
  },
  {
   "cell_type": "code",
   "execution_count": null,
   "metadata": {},
   "outputs": [],
   "source": []
  },
  {
   "cell_type": "code",
   "execution_count": null,
   "metadata": {},
   "outputs": [],
   "source": []
  }
 ],
 "metadata": {
  "kernelspec": {
   "display_name": "chem_templates",
   "language": "python",
   "name": "chem_templates"
  }
 },
 "nbformat": 4,
 "nbformat_minor": 4
}
