{
 "cells": [
  {
   "cell_type": "markdown",
   "metadata": {},
   "source": [
    "# Template\n",
    "\n",
    "> Template related functions"
   ]
  },
  {
   "cell_type": "code",
   "execution_count": null,
   "metadata": {},
   "outputs": [],
   "source": [
    "#| default_exp template"
   ]
  },
  {
   "cell_type": "code",
   "execution_count": null,
   "metadata": {},
   "outputs": [],
   "source": [
    "#| hide\n",
    "from nbdev.showdoc import *\n",
    "%load_ext autoreload\n",
    "%autoreload 2"
   ]
  },
  {
   "cell_type": "code",
   "execution_count": null,
   "metadata": {},
   "outputs": [],
   "source": [
    "#| export\n",
    "from chem_templates.imports import *\n",
    "from chem_templates.utils import *\n",
    "from chem_templates.chem import Molecule\n",
    "from chem_templates.filter import Filter, FilterResult"
   ]
  },
  {
   "cell_type": "code",
   "execution_count": null,
   "metadata": {},
   "outputs": [],
   "source": [
    "#| export\n",
    "\n",
    "class TemplateResult():\n",
    "    def __init__(self, \n",
    "                 result:         bool, \n",
    "                 filter_results: list[bool], \n",
    "                 filter_data:    list[Union[FilterResult, None]]):\n",
    "        \n",
    "        self.result = result\n",
    "        self.filter_results = filter_results\n",
    "        self.filter_data = filter_data\n",
    "\n",
    "class Template():\n",
    "    def __init__(self, filters: list[Filter]):\n",
    "        self.filters = filters\n",
    "        \n",
    "    def _empty_result(self):\n",
    "        filter_results = [False for i in self.filters]\n",
    "        filter_data = [None for i in self.filters]\n",
    "        \n",
    "        return TemplateResult(False, filter_results, filter_data)\n",
    "        \n",
    "    def __call__(self, molecule: Molecule, early_exit: bool=True) -> TemplateResult:\n",
    "        results = self._empty_result()\n",
    "        \n",
    "        for i, f in enumerate(self.filters):\n",
    "            res = f(molecule)\n",
    "            results.filter_results[i] = res.filter_result\n",
    "            results.filter_data[i] = res\n",
    "\n",
    "            if (not res.filter_result) and early_exit:\n",
    "                break\n",
    "                \n",
    "        results.result = all(results.filter_results)\n",
    "                        \n",
    "        return results"
   ]
  },
  {
   "cell_type": "code",
   "execution_count": null,
   "metadata": {},
   "outputs": [],
   "source": [
    "from chem_templates.filter import *\n",
    "from chem_templates.chem import mol_func_wrapper\n",
    "from rdkit.Chem import rdMolDescriptors, Descriptors\n",
    "\n",
    "hbd = mol_func_wrapper(rdMolDescriptors.CalcNumHBD)\n",
    "hba = mol_func_wrapper(rdMolDescriptors.CalcNumHBA)\n",
    "molwt = mol_func_wrapper(rdMolDescriptors.CalcExactMolWt)\n",
    "logp = mol_func_wrapper(Descriptors.MolLogP)\n",
    "\n",
    "filters = [\n",
    "    ValidityFilter(),\n",
    "    SingleCompoundFilter(),\n",
    "    RangeFunctionFilter(hbd, 'hydrogen_bond_donors', None, 5),\n",
    "    RangeFunctionFilter(hba, 'hydrogen_bond_acceptors', None, 10),\n",
    "    RangeFunctionFilter(molwt, 'molecular_weight', None, 150),\n",
    "    RangeFunctionFilter(logp, 'CLogP', None, 5)\n",
    "]\n",
    "\n",
    "template = Template(filters)\n",
    "\n",
    "molecule = Molecule('c1ccccc1N=Nc1ccccc1')\n",
    "\n",
    "res = template(molecule, early_exit=True)\n",
    "assert res.result == False\n",
    "assert res.filter_results == [True, True, True, True, False, False]\n",
    "\n",
    "res = template(molecule, early_exit=False)\n",
    "assert res.result == False\n",
    "assert res.filter_results == [True, True, True, True, False, True]\n",
    "\n",
    "assert template(Molecule('c1ccccc1N=N')).result"
   ]
  },
  {
   "cell_type": "code",
   "execution_count": null,
   "metadata": {},
   "outputs": [],
   "source": [
    "#| hide\n",
    "import nbdev; nbdev.nbdev_export()"
   ]
  },
  {
   "cell_type": "code",
   "execution_count": null,
   "metadata": {},
   "outputs": [],
   "source": []
  }
 ],
 "metadata": {
  "kernelspec": {
   "display_name": "chem_templates",
   "language": "python",
   "name": "chem_templates"
  }
 },
 "nbformat": 4,
 "nbformat_minor": 4
}
