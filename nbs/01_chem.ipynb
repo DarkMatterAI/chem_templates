{
 "cells": [
  {
   "cell_type": "markdown",
   "metadata": {},
   "source": [
    "# Chem\n",
    "\n",
    "> Chemistry related functions"
   ]
  },
  {
   "cell_type": "code",
   "execution_count": null,
   "metadata": {},
   "outputs": [],
   "source": [
    "#| default_exp chem"
   ]
  },
  {
   "cell_type": "code",
   "execution_count": null,
   "metadata": {},
   "outputs": [],
   "source": [
    "#| hide\n",
    "from nbdev.showdoc import *\n",
    "%load_ext autoreload\n",
    "%autoreload 2"
   ]
  },
  {
   "cell_type": "code",
   "execution_count": null,
   "metadata": {},
   "outputs": [],
   "source": [
    "#| export\n",
    "from chem_templates.imports import *\n",
    "from chem_templates.utils import *\n",
    "\n",
    "import rdkit\n",
    "from rdkit import Chem\n",
    "from rdkit.Chem import AllChem, rdMolDescriptors, Descriptors\n",
    "from rdkit.Chem.FilterCatalog import FilterCatalog, ExclusionList, FilterCatalogEntry, \\\n",
    "SmartsMatcher, FilterCatalogParams\n",
    "from rdkit import RDLogger\n",
    "RDLogger.DisableLog('rdApp.*')"
   ]
  },
  {
   "cell_type": "markdown",
   "metadata": {},
   "source": [
    "## RDKit i/o\n",
    "\n",
    "Functions for converting between SMILES strings and RDKit mol objects"
   ]
  },
  {
   "cell_type": "code",
   "execution_count": null,
   "metadata": {},
   "outputs": [],
   "source": [
    "#| export\n",
    "def to_mol(smile: str) -> Union[Chem.Mol, None]:\n",
    "    try:\n",
    "        mol = Chem.MolFromSmiles(smile)\n",
    "        Chem.SanitizeMol(mol)\n",
    "    except:\n",
    "        mol = None\n",
    "        \n",
    "    return mol\n",
    "\n",
    "def to_smile(mol: Chem.Mol) -> str:\n",
    "    smile = Chem.MolToSmiles(mol)\n",
    "    return smile\n",
    "\n",
    "def to_kekule(smile: str) -> str:\n",
    "    return Chem.MolToSmiles(to_mol(smile), kekuleSmiles=True)\n",
    "\n",
    "def canon_smile(smile: str) -> str:\n",
    "    try:\n",
    "        return Chem.CanonSmiles(smile)\n",
    "    except:\n",
    "        return ''\n",
    "    \n",
    "def remove_stereo(mol: Chem.Mol) -> Chem.Mol:\n",
    "    Chem.rdmolops.RemoveStereochemistry(mol)\n",
    "    return mol\n",
    "\n",
    "def remove_stereo_smile(smile: str) -> str:\n",
    "    if '@' in smile:\n",
    "        mol = to_mol(smile)\n",
    "        mol = remove_stereo(mol)\n",
    "        smile = to_smile(mol)\n",
    "    return smile"
   ]
  },
  {
   "cell_type": "code",
   "execution_count": null,
   "metadata": {},
   "outputs": [],
   "source": [
    "assert type(to_mol('CCC')) == Chem.Mol\n",
    "assert type(to_smile(Chem.MolFromSmiles('CCC'))) == str"
   ]
  },
  {
   "cell_type": "code",
   "execution_count": null,
   "metadata": {},
   "outputs": [],
   "source": [
    "#| export\n",
    "class Molecule():\n",
    "    def __init__(self, \n",
    "                 smile: str, \n",
    "                 data:  Optional[dict]=None):\n",
    "        self.smile = canon_smile(smile)\n",
    "        self.mol = to_mol(self.smile)\n",
    "        self.valid = (self.mol is not None) and (self.smile != '')\n",
    "        \n",
    "        self.data = {}\n",
    "        self.add_data(data)\n",
    "            \n",
    "    def add_data(self, data: Optional[dict]=None):\n",
    "        if data is not None:\n",
    "            self.data.update(data)"
   ]
  },
  {
   "cell_type": "code",
   "execution_count": null,
   "metadata": {},
   "outputs": [],
   "source": [
    "#| export\n",
    "\n",
    "def mol_func_wrapper(func: Callable[[Chem.Mol], Any]):\n",
    "    return lambda x: func(x.mol)"
   ]
  },
  {
   "cell_type": "code",
   "execution_count": null,
   "metadata": {},
   "outputs": [],
   "source": [
    "rdkit_function = Descriptors.MolLogP\n",
    "\n",
    "smile = 'CCCCCC'\n",
    "mol = to_mol(smile)\n",
    "molecule = Molecule(smile)\n",
    "\n",
    "wrapped_function = mol_func_wrapper(rdkit_function)\n",
    "\n",
    "assert rdkit_function(mol) == wrapped_function(molecule)"
   ]
  },
  {
   "cell_type": "code",
   "execution_count": null,
   "metadata": {},
   "outputs": [],
   "source": [
    "#| export\n",
    "\n",
    "class Catalog():\n",
    "    def __init__(self, catalog: FilterCatalog):\n",
    "        self.catalog = catalog\n",
    "        self.filter_names = [self.catalog.GetEntryWithIdx(i).GetDescription() \n",
    "                      for i in range(self.catalog.GetNumEntries())]\n",
    "        \n",
    "    def has_match(self, molecule: Molecule) -> bool:\n",
    "        return self.catalog.HasMatch(molecule.mol)\n",
    "    \n",
    "    def get_matches(self, molecule: Molecule) -> list[str]:\n",
    "        matches = [i.GetDescription() for i in self.catalog.GetMatches(molecule.mol)]\n",
    "        return matches\n",
    "    \n",
    "    @classmethod\n",
    "    def from_smarts(cls, smarts: list[str]):\n",
    "        catalog = FilterCatalog()\n",
    "        for s in smarts:\n",
    "            catalog.AddEntry(FilterCatalogEntry(s, SmartsMatcher(s,s)))\n",
    "            \n",
    "        return cls(catalog)\n",
    "    \n",
    "    @classmethod\n",
    "    def from_params(cls, params: FilterCatalogParams.FilterCatalogs):\n",
    "        catalog = FilterCatalog(params)\n",
    "        return cls(catalog)"
   ]
  },
  {
   "cell_type": "code",
   "execution_count": null,
   "metadata": {},
   "outputs": [],
   "source": [
    "smarts = [\n",
    "    '[*]-[#6]1:[#6]:[#6](-[#0]):[#6]:[#6](-[*]):[#6]:1',\n",
    "    '[*]-[#6]1:[#6]:[#6](-[*]):[#6]:[#6]:[#6]:1',\n",
    "    '[*]-[#6]1:[#6]:[#6]:[#6]:[#6]:[#6]:1',\n",
    "    '[*]-[#6]1:[#6]:[#6](-[#7]-[*]):[#6]:[#6]:[#6]:1',\n",
    "    '[#6]1:[#6]:[#7]:[#6]:[#6]:[#6]:1'\n",
    "]\n",
    "\n",
    "catalog = Catalog.from_smarts(smarts)\n",
    "\n",
    "smiles = [\n",
    "    'c1ccccc1',\n",
    "    'Cc1cccc(NCc2ccccc2)c1'\n",
    "]\n",
    "\n",
    "molecules = [Molecule(i) for i in smiles]\n",
    "\n",
    "assert not catalog.has_match(molecules[0])\n",
    "assert catalog.has_match(molecules[1])"
   ]
  },
  {
   "cell_type": "code",
   "execution_count": null,
   "metadata": {},
   "outputs": [],
   "source": [
    "#| hide\n",
    "import nbdev; nbdev.nbdev_export()"
   ]
  },
  {
   "cell_type": "code",
   "execution_count": null,
   "metadata": {},
   "outputs": [],
   "source": []
  }
 ],
 "metadata": {
  "kernelspec": {
   "display_name": "chem_templates",
   "language": "python",
   "name": "chem_templates"
  }
 },
 "nbformat": 4,
 "nbformat_minor": 4
}
