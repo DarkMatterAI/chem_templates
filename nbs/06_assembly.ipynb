{
 "cells": [
  {
   "cell_type": "markdown",
   "metadata": {},
   "source": [
    "# Assembly\n",
    "\n",
    "> assembly related functions"
   ]
  },
  {
   "cell_type": "code",
   "execution_count": null,
   "metadata": {},
   "outputs": [],
   "source": [
    "#| default_exp assembly"
   ]
  },
  {
   "cell_type": "code",
   "execution_count": null,
   "metadata": {},
   "outputs": [],
   "source": [
    "#| hide\n",
    "from nbdev.showdoc import *\n",
    "%load_ext autoreload\n",
    "%autoreload 2"
   ]
  },
  {
   "cell_type": "code",
   "execution_count": null,
   "metadata": {},
   "outputs": [
    {
     "name": "stderr",
     "output_type": "stream",
     "text": [
      "/home/dmai/miniconda3/envs/chem_templates/lib/python3.9/site-packages/tqdm/auto.py:22: TqdmWarning: IProgress not found. Please update jupyter and ipywidgets. See https://ipywidgets.readthedocs.io/en/stable/user_install.html\n",
      "  from .autonotebook import tqdm as notebook_tqdm\n"
     ]
    }
   ],
   "source": [
    "#| export\n",
    "\n",
    "from __future__ import annotations\n",
    "from chem_templates.imports import *\n",
    "from chem_templates.utils import *\n",
    "from chem_templates.chem import Molecule\n",
    "from chem_templates.template import Template, TemplateResult"
   ]
  },
  {
   "cell_type": "code",
   "execution_count": null,
   "metadata": {},
   "outputs": [],
   "source": [
    "#| export\n",
    "\n",
    "class AssemblyPool():\n",
    "    def __init__(self, items: list[Molecule]):\n",
    "        self.items = items\n",
    "        \n",
    "    def __len__(self) -> int:\n",
    "        return len(self.items)\n",
    "    \n",
    "    def __getitem__(self, idx: int) -> Molecule:\n",
    "        return self.items[idx]\n",
    "    \n",
    "    def filter(self, filter_func: Callable, worker_pool: Optional[Pool]=None) -> AssemblyPool:\n",
    "        if worker_pool:\n",
    "            bools = worker_pool.map(filter_func, self.items)\n",
    "            \n",
    "        else:\n",
    "            bools = [filter_func(i) for i in self.items]\n",
    "            \n",
    "        return AssemblyPool([self.items[i] for i in range(len(self.items)) if bools[i]])\n",
    "    \n",
    "    def __repr__(self) -> str:\n",
    "        return f'AssemblyPool: {len(self.items)} items'"
   ]
  },
  {
   "cell_type": "code",
   "execution_count": null,
   "metadata": {},
   "outputs": [],
   "source": [
    "pool = AssemblyPool([Molecule('C'), Molecule('CCCCC')])\n",
    "assert len(pool)==2\n",
    "def filter_func(molecule):\n",
    "    return len(molecule.smile)>1\n",
    "\n",
    "pool2 = pool.filter(filter_func)\n",
    "assert len(pool2)==1"
   ]
  },
  {
   "cell_type": "code",
   "execution_count": null,
   "metadata": {},
   "outputs": [],
   "source": [
    "#| export\n",
    "\n",
    "class AssemblyInputs():\n",
    "    def __init__(self, \n",
    "                 pool_dict: dict[str, AssemblyPool], \n",
    "                 assembly_chunksize: int,\n",
    "                 max_assemblies_per_node: int,\n",
    "                 worker_pool: Optional[Pool]=None, \n",
    "                 log: bool=True):\n",
    "        \n",
    "        self.pool_dict = pool_dict\n",
    "        self.assembly_chunksize = assembly_chunksize\n",
    "        self.max_assemblies_per_node = max_assemblies_per_node\n",
    "        \n",
    "        self.worker_pool = worker_pool\n",
    "            \n",
    "        self.log = log\n",
    "        self.assembly_log = {}"
   ]
  },
  {
   "cell_type": "code",
   "execution_count": null,
   "metadata": {},
   "outputs": [],
   "source": [
    "#| export\n",
    "\n",
    "class Node():\n",
    "    def __init__(self, \n",
    "                 name: str, \n",
    "                 template: Optional[Template]=None):\n",
    "        self.name = name\n",
    "        self.template = template\n",
    "        \n",
    "    def template_screen(self, molecule: Molecule) -> bool:\n",
    "        if self.template is not None:\n",
    "            output = self.template(molecule)\n",
    "        else:\n",
    "            output = TemplateResult(True, [], [])\n",
    "        \n",
    "        molecule.add_data({'template_data' : output, 'template_result' : output.result})\n",
    "            \n",
    "        return output.result\n",
    "    \n",
    "    def _fuse(self, fusion_input):\n",
    "        raise NotImplementedError\n",
    "\n",
    "    def fuse(self, fusion_inputs, worker_pool: Optional[Pool]=None):\n",
    "        if worker_pool:\n",
    "            outputs = worker_pool.map(self._fuse, fusion_inputs)\n",
    "        else:\n",
    "            outputs = [self._fuse(i) for i in fusion_inputs]\n",
    "        return AssemblyPool(outputs)"
   ]
  },
  {
   "cell_type": "code",
   "execution_count": null,
   "metadata": {},
   "outputs": [],
   "source": []
  },
  {
   "cell_type": "code",
   "execution_count": null,
   "metadata": {},
   "outputs": [],
   "source": [
    "#| hide\n",
    "import nbdev; nbdev.nbdev_export()"
   ]
  },
  {
   "cell_type": "code",
   "execution_count": null,
   "metadata": {},
   "outputs": [],
   "source": []
  }
 ],
 "metadata": {
  "kernelspec": {
   "display_name": "chem_templates",
   "language": "python",
   "name": "chem_templates"
  }
 },
 "nbformat": 4,
 "nbformat_minor": 4
}
