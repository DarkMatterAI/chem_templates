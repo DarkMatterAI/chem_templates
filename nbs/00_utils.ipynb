{
 "cells": [
  {
   "cell_type": "markdown",
   "metadata": {},
   "source": [
    "# Utils\n",
    "\n",
    "> Python helper functions"
   ]
  },
  {
   "cell_type": "code",
   "execution_count": null,
   "metadata": {},
   "outputs": [],
   "source": [
    "#| default_exp utils"
   ]
  },
  {
   "cell_type": "code",
   "execution_count": null,
   "metadata": {},
   "outputs": [],
   "source": [
    "#| hide\n",
    "from nbdev.showdoc import *"
   ]
  },
  {
   "cell_type": "code",
   "execution_count": null,
   "metadata": {},
   "outputs": [],
   "source": [
    "#| export\n",
    "from chem_templates.imports import *"
   ]
  },
  {
   "cell_type": "code",
   "execution_count": null,
   "metadata": {},
   "outputs": [],
   "source": [
    "#| export\n",
    "def flatten_list(input: list[list]) -> list:\n",
    "    \"Flattens list of lists (not recursive)\"\n",
    "    return [item for sublist in input for item in sublist]\n",
    "\n",
    "def validate_range(min_val, max_val, min_limit, max_limit):\n",
    "    if (min_val is None) and (max_val is None):\n",
    "        raise ValueError('one of min_val or max_val must be defined')\n",
    "        \n",
    "    if min_val is None:\n",
    "        min_val = min_limit\n",
    "        \n",
    "    if max_val is None:\n",
    "        max_val = max_limit\n",
    "        \n",
    "    if min_val > max_val:\n",
    "        raise ValueError('min_val must be less than max_val')\n",
    "        \n",
    "    if min_val < min_limit:\n",
    "        raise ValueError('min_val less than min_limit')\n",
    "        \n",
    "    if max_val > max_limit:\n",
    "        raise ValueError('max_val greater than max_limit')\n",
    "        \n",
    "    return min_val, max_val"
   ]
  },
  {
   "cell_type": "code",
   "execution_count": null,
   "metadata": {},
   "outputs": [],
   "source": [
    "assert flatten_list([[1], [2]]) == [1, 2]"
   ]
  },
  {
   "cell_type": "code",
   "execution_count": null,
   "metadata": {},
   "outputs": [],
   "source": [
    "#| hide\n",
    "import nbdev; nbdev.nbdev_export()"
   ]
  },
  {
   "cell_type": "code",
   "execution_count": null,
   "metadata": {},
   "outputs": [],
   "source": []
  }
 ],
 "metadata": {
  "kernelspec": {
   "display_name": "chem_templates",
   "language": "python",
   "name": "chem_templates"
  }
 },
 "nbformat": 4,
 "nbformat_minor": 4
}
