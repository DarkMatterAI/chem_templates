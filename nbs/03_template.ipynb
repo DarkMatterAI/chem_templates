{
 "cells": [
  {
   "cell_type": "markdown",
   "metadata": {},
   "source": [
    "# Template\n",
    "\n",
    "> Template related functions"
   ]
  },
  {
   "cell_type": "code",
   "execution_count": null,
   "metadata": {},
   "outputs": [],
   "source": [
    "#| default_exp template"
   ]
  },
  {
   "cell_type": "code",
   "execution_count": null,
   "metadata": {},
   "outputs": [],
   "source": [
    "#| hide\n",
    "from nbdev.showdoc import *\n",
    "%load_ext autoreload\n",
    "%autoreload 2"
   ]
  },
  {
   "cell_type": "code",
   "execution_count": null,
   "metadata": {},
   "outputs": [],
   "source": [
    "#| export\n",
    "from chem_templates.imports import *\n",
    "from chem_templates.utils import *\n",
    "from chem_templates.chem import Molecule\n",
    "from chem_templates.filter import Filter, FilterResult"
   ]
  },
  {
   "cell_type": "code",
   "execution_count": null,
   "metadata": {},
   "outputs": [],
   "source": [
    "#| export\n",
    "\n",
    "class Template():\n",
    "    def __init__(self, filters: list[Filter]):\n",
    "        self.filters = filters\n",
    "        \n",
    "    def __call__(self, molecule: Molecule, early_exit: bool=True) -> Tuple[list[FilterResult], list[bool]]:\n",
    "        filter_results = [None for i in self.filters]\n",
    "        filter_summary = [False for i in self.filters]\n",
    "        \n",
    "        for i, f in enumerate(filters):\n",
    "            results = f(molecule)\n",
    "            filter_results[i] = results\n",
    "            filter_summary[i] = results.filter_result\n",
    "\n",
    "            if (not results.filter_result) and early_exit:\n",
    "                break\n",
    "                \n",
    "        return (filter_summary, filter_results)"
   ]
  },
  {
   "cell_type": "code",
   "execution_count": null,
   "metadata": {},
   "outputs": [],
   "source": [
    "from chem_templates.filter import *\n",
    "from chem_templates.chem import mol_func_wrapper\n",
    "from rdkit.Chem import rdMolDescriptors, Descriptors\n",
    "\n",
    "hbd = mol_func_wrapper(rdMolDescriptors.CalcNumHBD)\n",
    "hba = mol_func_wrapper(rdMolDescriptors.CalcNumHBA)\n",
    "molwt = mol_func_wrapper(rdMolDescriptors.CalcExactMolWt)\n",
    "logp = mol_func_wrapper(Descriptors.MolLogP)\n",
    "\n",
    "filters = [\n",
    "    ValidityFilter(),\n",
    "    SingleCompoundFilter(),\n",
    "    RangeFunctionFilter(hbd, 'hydrogen_bond_donors', None, 5),\n",
    "    RangeFunctionFilter(hba, 'hydrogen_bond_acceptors', None, 10),\n",
    "    RangeFunctionFilter(molwt, 'molecular_weight', None, 150),\n",
    "    RangeFunctionFilter(logp, 'CLogP', None, 5)\n",
    "]\n",
    "\n",
    "template = Template(filters)\n",
    "\n",
    "molecule = Molecule('c1ccccc1N=Nc1ccccc1')\n",
    "\n",
    "res, data = template(molecule, early_exit=True)\n",
    "assert res==[True, True, True, True, False, False]\n",
    "\n",
    "res, data = template(molecule, early_exit=False)\n",
    "assert res==[True, True, True, True, False, True]"
   ]
  },
  {
   "cell_type": "code",
   "execution_count": null,
   "metadata": {},
   "outputs": [],
   "source": [
    "#| hide\n",
    "import nbdev; nbdev.nbdev_export()"
   ]
  },
  {
   "cell_type": "code",
   "execution_count": null,
   "metadata": {},
   "outputs": [],
   "source": []
  }
 ],
 "metadata": {
  "kernelspec": {
   "display_name": "chem_templates",
   "language": "python",
   "name": "chem_templates"
  }
 },
 "nbformat": 4,
 "nbformat_minor": 4
}
