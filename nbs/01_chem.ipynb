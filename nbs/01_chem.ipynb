{
 "cells": [
  {
   "cell_type": "markdown",
   "metadata": {},
   "source": [
    "# Chem\n",
    "\n",
    "> Chemistry related functions"
   ]
  },
  {
   "cell_type": "code",
   "execution_count": null,
   "metadata": {},
   "outputs": [],
   "source": [
    "#| default_exp chem"
   ]
  },
  {
   "cell_type": "code",
   "execution_count": null,
   "metadata": {},
   "outputs": [],
   "source": [
    "#| hide\n",
    "from nbdev.showdoc import *\n",
    "%load_ext autoreload\n",
    "%autoreload 2"
   ]
  },
  {
   "cell_type": "code",
   "execution_count": null,
   "metadata": {},
   "outputs": [
    {
     "name": "stderr",
     "output_type": "stream",
     "text": [
      "/Users/karlheyer/miniconda3/envs/chem_templates/lib/python3.9/site-packages/tqdm/auto.py:21: TqdmWarning: IProgress not found. Please update jupyter and ipywidgets. See https://ipywidgets.readthedocs.io/en/stable/user_install.html\n",
      "  from .autonotebook import tqdm as notebook_tqdm\n"
     ]
    }
   ],
   "source": [
    "#| export\n",
    "from chem_templates.imports import *\n",
    "from chem_templates.utils import *\n",
    "\n",
    "import rdkit\n",
    "from rdkit import Chem\n",
    "from rdkit.Chem import AllChem, rdMolDescriptors, Descriptors, rdMMPA\n",
    "from rdkit.Chem.FilterCatalog import FilterCatalog, ExclusionList, FilterCatalogEntry, \\\n",
    "SmartsMatcher, FilterCatalogParams\n",
    "from rdkit import RDLogger\n",
    "RDLogger.DisableLog('rdApp.*')"
   ]
  },
  {
   "cell_type": "markdown",
   "metadata": {},
   "source": [
    "## RDKit i/o\n",
    "\n",
    "Functions for converting between SMILES strings and RDKit mol objects"
   ]
  },
  {
   "cell_type": "code",
   "execution_count": null,
   "metadata": {},
   "outputs": [],
   "source": [
    "#| export\n",
    "def to_mol(smile: str # input SMILES string\n",
    "          ) -> Union[Chem.Mol, None]: # output rdkit mol\n",
    "    'convertes smile to Mol with sanitization. returns `None` if mol creation fails'\n",
    "    try:\n",
    "        mol = Chem.MolFromSmiles(smile)\n",
    "        Chem.SanitizeMol(mol)\n",
    "    except:\n",
    "        mol = None\n",
    "        \n",
    "    return mol\n",
    "\n",
    "def to_smile(mol: Chem.Mol # input rdkit mol\n",
    "            ) -> str: # output SMILES string\n",
    "    'converts Mol to SMILES string'\n",
    "    smile = Chem.MolToSmiles(mol)\n",
    "    return smile\n",
    "\n",
    "def to_kekule(smile: str # input SMILES string\n",
    "             ) -> str: # output kekule SMILES string\n",
    "    'converts SMILES string to kekule form'\n",
    "    return Chem.MolToSmiles(to_mol(smile), kekuleSmiles=True)\n",
    "\n",
    "def canon_smile(smile: str # input SMILES string\n",
    "               ) -> str: # canonicalized SMILES string\n",
    "    'attempts to canonicalize SMILES string. returns empty string if canonicalization fails'\n",
    "    try:\n",
    "        return Chem.CanonSmiles(smile)\n",
    "    except:\n",
    "        return ''\n",
    "    \n",
    "def remove_stereo(mol: Chem.Mol # input rdkit Mol\n",
    "                 ) -> Chem.Mol: # output rdkit Mol\n",
    "    'removes stereochemistry from rdkit Mol'\n",
    "    Chem.rdmolops.RemoveStereochemistry(mol)\n",
    "    return mol\n",
    "\n",
    "def remove_stereo_smile(smile: str # input SMILES string\n",
    "                       ) -> str: # output SMILES string\n",
    "    'removes stereochemistry from SMILES string'\n",
    "    if '@' in smile:\n",
    "        mol = to_mol(smile)\n",
    "        mol = remove_stereo(mol)\n",
    "        smile = to_smile(mol)\n",
    "    return smile\n",
    "\n",
    "def filter_valid_smiles(smiles: list[str] # input list of SMILES strings\n",
    "                       ) -> list[str]: # output list of valid SMILES strings\n",
    "    'given a list of SMILES, filters list for SMILES that resolve to a valid molecule'\n",
    "    outputs = []\n",
    "    for smile in smiles:\n",
    "        mol = to_mol(smile)\n",
    "        if mol is not None:\n",
    "            outputs.append(to_smile(mol))\n",
    "            \n",
    "    return deduplicate_list(smiles)"
   ]
  },
  {
   "cell_type": "code",
   "execution_count": null,
   "metadata": {},
   "outputs": [],
   "source": [
    "assert type(to_mol('CCC')) == Chem.Mol\n",
    "assert type(to_smile(Chem.MolFromSmiles('CCC'))) == str"
   ]
  },
  {
   "cell_type": "code",
   "execution_count": null,
   "metadata": {},
   "outputs": [],
   "source": [
    "#| export\n",
    "class Molecule():\n",
    "    def __init__(self, \n",
    "                 smile: str, # SMILES string\n",
    "                 data:  Optional[dict]=None # dictionary of molecule data\n",
    "                ):\n",
    "        self.smile = canon_smile(smile)\n",
    "        self.mol = to_mol(self.smile)\n",
    "        self.valid = (self.mol is not None) and (self.smile != '')\n",
    "        \n",
    "        self.data = {}\n",
    "        self.add_data(data)\n",
    "            \n",
    "    def add_data(self, data: Optional[dict]=None):\n",
    "        'adds `data` to molecule data dict'\n",
    "        if data is not None:\n",
    "            self.data.update(data)"
   ]
  },
  {
   "cell_type": "code",
   "execution_count": null,
   "metadata": {},
   "outputs": [],
   "source": [
    "#| export\n",
    "\n",
    "def mol_func_wrapper(func: Callable[[Chem.Mol], Any] # function that takes rdkit Mol as input\n",
    "                    ) -> Callable[[Molecule], Any]: # function that takes Molecule as input\n",
    "    'takes a function with a Chem.Mol input and returns a wrapped version that accepts a Molecule as input'\n",
    "    return lambda molecule: func(molecule.mol)\n",
    "\n",
    "def smile_func_wrapper(func: Callable[[str], Any] # function that takes SMILES string as input\n",
    "                      ) -> Callable[[Molecule], Any]: # function that takes Molecule as input\n",
    "    'takes a function with a SMILES string input and returns a wrapped version that accepts a Molecule as input'\n",
    "    return lambda molecule: func(molecule.smile)"
   ]
  },
  {
   "cell_type": "code",
   "execution_count": null,
   "metadata": {},
   "outputs": [],
   "source": [
    "rdkit_function = rdMolDescriptors.CalcExactMolWt\n",
    "\n",
    "smile = 'CCCCCC'\n",
    "mol = to_mol(smile)\n",
    "molecule = Molecule(smile)\n",
    "\n",
    "wrapped_function = mol_func_wrapper(rdkit_function)\n",
    "\n",
    "assert rdkit_function(mol) == wrapped_function(molecule)"
   ]
  },
  {
   "cell_type": "code",
   "execution_count": null,
   "metadata": {},
   "outputs": [],
   "source": [
    "#| export\n",
    "\n",
    "class Catalog():\n",
    "    def __init__(self, catalog: FilterCatalog # input filter catalog\n",
    "                ):\n",
    "        self.catalog = catalog\n",
    "        self.filter_names = [self.catalog.GetEntryWithIdx(i).GetDescription() \n",
    "                      for i in range(self.catalog.GetNumEntries())]\n",
    "        \n",
    "    def has_match(self, molecule: Molecule # input molecule\n",
    "                 ) -> bool: # returns `True` if match found, else `False`\n",
    "        return self.catalog.HasMatch(molecule.mol)\n",
    "    \n",
    "    def get_matches(self, molecule: Molecule # input molecule\n",
    "                   ) -> list[str]: # list of matching filters\n",
    "        matches = [i.GetDescription() for i in self.catalog.GetMatches(molecule.mol)]\n",
    "        return matches\n",
    "    \n",
    "    @classmethod\n",
    "    def from_smarts(cls, smarts: list[str] # list of filter SMARTS\n",
    "                   ):\n",
    "        'builds filter catalog from filter SMARTS'\n",
    "        catalog = FilterCatalog()\n",
    "        for s in smarts:\n",
    "            catalog.AddEntry(FilterCatalogEntry(s, SmartsMatcher(s,s)))\n",
    "            \n",
    "        return cls(catalog)\n",
    "    \n",
    "    @classmethod\n",
    "    def from_params(cls, params: FilterCatalogParams.FilterCatalogs # filter catalog params\n",
    "                   ):\n",
    "        '''\n",
    "        builds catalog from rdkit filter catalog params\n",
    "        https://www.rdkit.org/docs/source/rdkit.Chem.rdfiltercatalog.html#rdkit.Chem.rdfiltercatalog.FilterCatalogParams.FilterCatalogs\n",
    "        '''\n",
    "        catalog = FilterCatalog(params)\n",
    "        return cls(catalog)"
   ]
  },
  {
   "cell_type": "code",
   "execution_count": null,
   "metadata": {},
   "outputs": [],
   "source": [
    "smarts = [\n",
    "    '[*]-[#6]1:[#6]:[#6](-[#0]):[#6]:[#6](-[*]):[#6]:1',\n",
    "    '[*]-[#6]1:[#6]:[#6](-[*]):[#6]:[#6]:[#6]:1',\n",
    "    '[*]-[#6]1:[#6]:[#6]:[#6]:[#6]:[#6]:1',\n",
    "    '[*]-[#6]1:[#6]:[#6](-[#7]-[*]):[#6]:[#6]:[#6]:1',\n",
    "    '[#6]1:[#6]:[#7]:[#6]:[#6]:[#6]:1'\n",
    "]\n",
    "\n",
    "catalog = Catalog.from_smarts(smarts)\n",
    "\n",
    "smiles = [\n",
    "    'c1ccccc1',\n",
    "    'Cc1cccc(NCc2ccccc2)c1'\n",
    "]\n",
    "\n",
    "molecules = [Molecule(i) for i in smiles]\n",
    "\n",
    "assert not catalog.has_match(molecules[0])\n",
    "assert catalog.has_match(molecules[1])"
   ]
  },
  {
   "cell_type": "code",
   "execution_count": null,
   "metadata": {},
   "outputs": [],
   "source": [
    "#| hide\n",
    "import nbdev; nbdev.nbdev_export()"
   ]
  },
  {
   "cell_type": "code",
   "execution_count": null,
   "metadata": {},
   "outputs": [],
   "source": []
  }
 ],
 "metadata": {
  "kernelspec": {
   "display_name": "chem_templates",
   "language": "python",
   "name": "chem_templates"
  }
 },
 "nbformat": 4,
 "nbformat_minor": 4
}
