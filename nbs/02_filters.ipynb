{
 "cells": [
  {
   "cell_type": "markdown",
   "metadata": {},
   "source": [
    "# Filters\n",
    "\n",
    "> Filter related functions"
   ]
  },
  {
   "cell_type": "code",
   "execution_count": null,
   "metadata": {},
   "outputs": [],
   "source": [
    "#| default_exp filter"
   ]
  },
  {
   "cell_type": "code",
   "execution_count": null,
   "metadata": {},
   "outputs": [],
   "source": [
    "#| hide\n",
    "from nbdev.showdoc import *\n",
    "%load_ext autoreload\n",
    "%autoreload 2"
   ]
  },
  {
   "cell_type": "code",
   "execution_count": null,
   "metadata": {},
   "outputs": [],
   "source": [
    "#| export\n",
    "from chem_templates.imports import *\n",
    "from chem_templates.utils import *\n",
    "from chem_templates.chem import Molecule\n",
    "from rdkit.Chem.FilterCatalog import SmartsMatcher"
   ]
  },
  {
   "cell_type": "code",
   "execution_count": null,
   "metadata": {},
   "outputs": [],
   "source": [
    "#| export\n",
    "\n",
    "class FilterResult():\n",
    "    def __init__(self, \n",
    "                 filter_result: bool, \n",
    "                 filter_name:   str, \n",
    "                 filter_data:   dict):\n",
    "        \n",
    "        self.filter_result = filter_result\n",
    "        self.filter_data = filter_data\n",
    "\n",
    "class Filter():\n",
    "    def __init__(self, name='filter'):\n",
    "        self.name = name\n",
    "        \n",
    "    def __call__(self, molecule: Molecule) -> FilterResult:\n",
    "        return FilterResult(True, self.name, {})\n",
    "    \n",
    "    def __repr__(self):\n",
    "        return self.name"
   ]
  },
  {
   "cell_type": "code",
   "execution_count": null,
   "metadata": {},
   "outputs": [],
   "source": [
    "#| export\n",
    "\n",
    "class ValidityFilter(Filter):\n",
    "    def __init__(self):\n",
    "        self.name = 'validity_filter'\n",
    "        \n",
    "    def __call__(self, molecule: Molecule) -> FilterResult:\n",
    "        return FilterResult(molecule.valid, self.name, {})\n",
    "    \n",
    "class SingleCompoundFilter(Filter):\n",
    "    def __init__(self):\n",
    "        self.name = 'single_compound'\n",
    "        \n",
    "    def __call__(self, molecule: Molecule) -> FilterResult:\n",
    "        result = not ('.' in molecule.smile)\n",
    "        return FilterResult(result, self.name, {})"
   ]
  },
  {
   "cell_type": "code",
   "execution_count": null,
   "metadata": {},
   "outputs": [],
   "source": [
    "mol1 = Molecule('CCCC')\n",
    "mol2 = Molecule('CCCc')\n",
    "mol3 = Molecule('CCC.CCCC')\n",
    "\n",
    "f1 = ValidityFilter()\n",
    "f2 = SingleCompoundFilter()\n",
    "\n",
    "assert f1(mol1).filter_result\n",
    "assert not f1(mol2).filter_result\n",
    "assert f1(mol3).filter_result\n",
    "\n",
    "assert f2(mol1).filter_result\n",
    "assert not f2(mol3).filter_result"
   ]
  },
  {
   "cell_type": "code",
   "execution_count": null,
   "metadata": {},
   "outputs": [],
   "source": [
    "#| export\n",
    "\n",
    "class AttachmentCountFilter(Filter):\n",
    "    def __init__(self, \n",
    "                 num_attachments: int):\n",
    "        \n",
    "        self.num_attachments = num_attachments\n",
    "        self.name = f'attachment_count_{num_attachments}'\n",
    "        \n",
    "    def __call__(self, molecule: Molecule) -> FilterResult:\n",
    "        num_attachments = molecule.smile.count('*')\n",
    "        \n",
    "        result = num_attachments == self.num_attachments\n",
    "        data = {'num_attachments' : num_attachments}\n",
    "        \n",
    "        return FilterResult(result, self.name, data)\n"
   ]
  },
  {
   "cell_type": "code",
   "execution_count": null,
   "metadata": {},
   "outputs": [],
   "source": [
    "mol1 = Molecule('[*:1]CC')\n",
    "mol2 = Molecule('[*:1]CC[*:2]')\n",
    "f = AttachmentCountFilter(1)\n",
    "\n",
    "assert f(mol1).filter_result\n",
    "assert not f(mol2).filter_result"
   ]
  },
  {
   "cell_type": "code",
   "execution_count": null,
   "metadata": {},
   "outputs": [],
   "source": [
    "#| export\n",
    "\n",
    "class BinaryFunctionFilter(Filter):\n",
    "    def __init__(self, \n",
    "                 func: Callable[[Molecule], bool], \n",
    "                 name: str):\n",
    "        \n",
    "        self.name = name\n",
    "        self.func = func\n",
    "        \n",
    "    def __call__(self, molecule: Molecule):\n",
    "        result = self.func(molecule)\n",
    "        \n",
    "        return FilterResult(result, self.name, {})\n",
    "    \n",
    "class DataFunctionFilter(Filter):\n",
    "    def __init__(self, \n",
    "                 func: Callable[[Molecule], Tuple[bool, dict]], \n",
    "                 name: str):\n",
    "        \n",
    "        self.name = name\n",
    "        self.func = func\n",
    "        \n",
    "    def __call__(self, molecule: Molecule) -> FilterResult:\n",
    "        result, data = self.func(molecule)\n",
    "        \n",
    "        return FilterResult(result, self.name, data)"
   ]
  },
  {
   "cell_type": "code",
   "execution_count": null,
   "metadata": {},
   "outputs": [],
   "source": [
    "from rdkit.Chem import rdMolDescriptors\n",
    "mol1 = Molecule('Cc1nnc2n1-c1ccc(Cl)cc1C(c1ccccc1)=NC2')\n",
    "mol2 = Molecule('CCCC')\n",
    "\n",
    "def filter_func(molecule):\n",
    "    n_rings = rdMolDescriptors.CalcNumRings(molecule.mol)\n",
    "    return n_rings>1\n",
    "\n",
    "f = BinaryFunctionFilter(filter_func, 'has_ring')\n",
    "\n",
    "assert f(mol1).filter_result\n",
    "assert not f(mol2).filter_result"
   ]
  },
  {
   "cell_type": "code",
   "execution_count": null,
   "metadata": {},
   "outputs": [],
   "source": [
    "#| export\n",
    "\n",
    "class RangeFunctionFilter(Filter):\n",
    "    def __init__(self, \n",
    "                 func:    Callable[[Molecule], bool], \n",
    "                 name:    str,\n",
    "                 min_val: Union[int, float, None]=None, \n",
    "                 max_val: Union[int, float, None]=None):\n",
    "        \n",
    "        min_val, max_val = validate_range(min_val, max_val, float('-inf'), float('inf'))\n",
    "        \n",
    "        self.func = func\n",
    "        self.min_val = min_val\n",
    "        self.max_val = max_val\n",
    "        self.name = name\n",
    "                \n",
    "    def __call__(self, molecule: Molecule):\n",
    "        value = self.func(molecule)\n",
    "        data = {'computed_value' : value, 'min_val' : self.min_val, 'max_val' : self.max_val}\n",
    "        result = self.min_val <= value <= self.max_val\n",
    "        \n",
    "        return FilterResult(result, self.name, data)"
   ]
  },
  {
   "cell_type": "code",
   "execution_count": null,
   "metadata": {},
   "outputs": [],
   "source": [
    "from rdkit.Chem import rdMolDescriptors\n",
    "\n",
    "def molwt(molecule):\n",
    "    wt = rdMolDescriptors.CalcExactMolWt(molecule.mol)\n",
    "    return wt\n",
    "\n",
    "f = RangeFunctionFilter(molwt, 'molwt_filter', 250, 350)\n",
    "\n",
    "\n",
    "mol1 = Molecule('Cc1nnc2n1-c1ccc(Cl)cc1C(c1ccccc1)=NC2')\n",
    "mol2 = Molecule('CCCC')\n",
    "\n",
    "assert f(mol1).filter_result\n",
    "assert not f(mol2).filter_result"
   ]
  },
  {
   "cell_type": "code",
   "execution_count": null,
   "metadata": {},
   "outputs": [],
   "source": [
    "#| export\n",
    "\n",
    "class SmartsFilter(Filter):\n",
    "    def __init__(self, \n",
    "                 smarts:  str, \n",
    "                 name:    str,\n",
    "                 exclude: bool=True,\n",
    "                 min_val: Union[int, float, None]=None, \n",
    "                 max_val: Union[int, float, None]=None):\n",
    "        \n",
    "        min_val, max_val = validate_range(min_val, max_val, 0, int(1e8))\n",
    "        \n",
    "        self.smarts = smarts\n",
    "        self.name = name\n",
    "        self.exclude = exclude\n",
    "        self.min_val = min_val\n",
    "        self.max_val = max_val\n",
    "        self.smarts_matcher = SmartsMatcher(self.name, self.smarts, self.min_val, self.max_val)\n",
    "        \n",
    "    def has_match(self, molecule: Molecule):\n",
    "        return self.smarts_matcher.HasMatch(molecule.mol)\n",
    "        \n",
    "    def __call__(self, molecule: Molecule):\n",
    "        \n",
    "        has_match = self.has_match(molecule)\n",
    "        \n",
    "        result = not has_match if self.exclude else has_match\n",
    "        \n",
    "        data = {'filter_result' : has_match}\n",
    "        \n",
    "        return FilterResult(result, self.name, data)"
   ]
  },
  {
   "cell_type": "code",
   "execution_count": null,
   "metadata": {},
   "outputs": [],
   "source": [
    "smarts = '[#6]1:[#6]:[#6]:[#6]:[#6]:[#6]:1'\n",
    "\n",
    "f1 = SmartsFilter(smarts, 'one_phenyl', min_val=1, max_val=1)\n",
    "f2 = SmartsFilter(smarts, 'two_phenyl', min_val=2)\n",
    "\n",
    "smiles = [\n",
    "    'c1ccccc1',\n",
    "    'Cc1cc(NC)cnc1',\n",
    "    'Cc1cccc(NCc2ccccc2)c1'\n",
    "]\n",
    "\n",
    "molecules = [Molecule(i) for i in smiles]\n",
    "\n",
    "assert f1.has_match(molecules[0])\n",
    "assert not f1.has_match(molecules[1])\n",
    "assert not f1.has_match(molecules[2])\n",
    "\n",
    "assert not f2.has_match(molecules[0])\n",
    "assert not f2.has_match(molecules[1])\n",
    "assert f2.has_match(molecules[2])"
   ]
  },
  {
   "cell_type": "code",
   "execution_count": null,
   "metadata": {},
   "outputs": [],
   "source": [
    "#| hide\n",
    "# dummy heavy atom filter\n",
    "# filter on attachment/dummy schema"
   ]
  },
  {
   "cell_type": "code",
   "execution_count": null,
   "metadata": {},
   "outputs": [],
   "source": [
    "#| hide\n",
    "import nbdev; nbdev.nbdev_export()"
   ]
  },
  {
   "cell_type": "code",
   "execution_count": null,
   "metadata": {},
   "outputs": [],
   "source": []
  },
  {
   "cell_type": "code",
   "execution_count": null,
   "metadata": {},
   "outputs": [],
   "source": []
  }
 ],
 "metadata": {
  "kernelspec": {
   "display_name": "chem_templates",
   "language": "python",
   "name": "chem_templates"
  }
 },
 "nbformat": 4,
 "nbformat_minor": 4
}
