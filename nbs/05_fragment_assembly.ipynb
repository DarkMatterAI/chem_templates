{
 "cells": [
  {
   "cell_type": "markdown",
   "metadata": {},
   "source": [
    "# Fragment Assembly\n",
    "\n",
    "> Fragment assembly related functions"
   ]
  },
  {
   "cell_type": "code",
   "execution_count": null,
   "metadata": {},
   "outputs": [],
   "source": [
    "#| default_exp fragment_assembly"
   ]
  },
  {
   "cell_type": "code",
   "execution_count": null,
   "metadata": {},
   "outputs": [],
   "source": [
    "#| hide\n",
    "from nbdev.showdoc import *\n",
    "%load_ext autoreload\n",
    "%autoreload 2"
   ]
  },
  {
   "cell_type": "code",
   "execution_count": null,
   "metadata": {},
   "outputs": [
    {
     "name": "stderr",
     "output_type": "stream",
     "text": [
      "/home/dmai/miniconda3/envs/chem_templates/lib/python3.9/site-packages/tqdm/auto.py:22: TqdmWarning: IProgress not found. Please update jupyter and ipywidgets. See https://ipywidgets.readthedocs.io/en/stable/user_install.html\n",
      "  from .autonotebook import tqdm as notebook_tqdm\n"
     ]
    }
   ],
   "source": [
    "#| export\n",
    "from chem_templates.imports import *\n",
    "from chem_templates.utils import *\n",
    "from chem_templates.chem import Molecule, to_smile, to_mol\n",
    "from chem_templates.template import Template, TemplateResult\n",
    "from chem_templates.fragment import get_dummy_mol, generate_mapping_permutations, combine_dummies, \\\n",
    "    fuse_smile_on_atom_mapping, is_mapped"
   ]
  },
  {
   "cell_type": "code",
   "execution_count": null,
   "metadata": {},
   "outputs": [],
   "source": [
    "#| export\n",
    "\n",
    "def visualize_assembly(molecule: Molecule) -> str:\n",
    "    \n",
    "    if 'input_smiles' in molecule.data.keys():\n",
    "        rep_str = f\"{molecule.data['source']}, {molecule.data['input_smiles']} -> {molecule.smile}\"\n",
    "        rep_str += '\\n'\n",
    "        for source in molecule.data['source_molecules']:\n",
    "            rep_str += '\\n\\t' + '\\n\\t'.join(visualize_assembly(source).split('\\n'))\n",
    "        return rep_str\n",
    "    else:\n",
    "        return f\"{molecule.data['source']}, {molecule.smile}\""
   ]
  },
  {
   "cell_type": "code",
   "execution_count": null,
   "metadata": {},
   "outputs": [],
   "source": [
    "#| export\n",
    "\n",
    "class FragmentNode():\n",
    "    def __init__(self, \n",
    "                 name: str, \n",
    "                 template: Template=None):\n",
    "        self.name = name\n",
    "        self.template = template\n",
    "        self.id = 1\n",
    "        self.build_ids()\n",
    "        self.build_dummies()\n",
    "        \n",
    "    def template_screen(self, molecule: Molecule, store_data=True):\n",
    "        if self.template is not None:\n",
    "            output = self.template(molecule)\n",
    "        else:\n",
    "            output = TemplateResult(True, [], [])\n",
    "        \n",
    "        if store_data:\n",
    "            molecule.add_data({'template_data' : output, 'template_result' : output.result})\n",
    "            \n",
    "        return output\n",
    "    \n",
    "    def fragment_screen(self, fragment: str):\n",
    "        if self.match_mapped_fragment(fragment):\n",
    "            molecule = Molecule(fragment)\n",
    "            template_result = self.template_screen(molecule, store_data=False)\n",
    "            return template_result.result\n",
    "        else:\n",
    "            return False\n",
    "        \n",
    "    def match_unmapped_fragment(self, fragment):\n",
    "        return fragment.count('*') == self.dummy_smile.count('*')\n",
    "    \n",
    "    def match_mapped_fragment(self, fragment):\n",
    "        patt = re.compile('\\[\\*(.*?)]')\n",
    "        frag_idxs = sorted([int(i[1:]) for i in patt.findall(fragment)])\n",
    "        return frag_idxs == self.mapping_idxs\n",
    "    \n",
    "    def get_leaf_nodes(self):\n",
    "        outputs = {}\n",
    "        stack = [self]\n",
    "        while stack:\n",
    "            current = stack.pop()\n",
    "            \n",
    "            if hasattr(current, 'children'):\n",
    "                for child in current.children:\n",
    "                    stack.append(child)\n",
    "            else:\n",
    "                outputs[current.name] = current\n",
    "                \n",
    "        return outputs\n",
    "        \n",
    "    def build_dummy(self):\n",
    "        self.dummy_smile = ''\n",
    "        \n",
    "    def build_ids(self):\n",
    "        stack = [self]\n",
    "        current_id = 1\n",
    "        while stack:\n",
    "            current = stack.pop()\n",
    "            current.id = current_id\n",
    "            current_id += 1\n",
    "            \n",
    "            for child in getattr(current, 'children', []):\n",
    "                stack.append(child)\n",
    "                \n",
    "    def build_dummies(self):\n",
    "        for child in getattr(self, 'children', []):\n",
    "            child.build_dummies()\n",
    "            \n",
    "        self.build_dummy()\n",
    "        \n",
    "    def repr_swap(self, input_str):\n",
    "        input_str = input_str.replace(f'Zr:{self.id}', self.name)\n",
    "        if hasattr(self, 'children'):\n",
    "            for child in self.children:\n",
    "                input_str = child.repr_swap(input_str)\n",
    "                \n",
    "        return input_str\n",
    "        \n",
    "    def __repr__(self):\n",
    "        rep_str = f'{self.name}: {self.repr_swap(self.dummy_smile)}'\n",
    "        if hasattr(self, 'children'):\n",
    "            rep_str += '\\n'\n",
    "            for child in self.children:\n",
    "                rep_str += '\\n\\t' + '\\n\\t'.join(child.__repr__().split('\\n'))\n",
    "                \n",
    "        return rep_str"
   ]
  },
  {
   "cell_type": "code",
   "execution_count": null,
   "metadata": {},
   "outputs": [],
   "source": [
    "#| export\n",
    "\n",
    "class FragmentLeafNode(FragmentNode):\n",
    "    def __init__(self, \n",
    "                 name: str, \n",
    "                 mapping_idxs: list[int], \n",
    "                 template: Template=None):\n",
    "        \n",
    "        self.mapping_idxs = sorted(mapping_idxs)\n",
    "        super().__init__(name, template)\n",
    "        \n",
    "    def build_dummy(self):\n",
    "        self.dummy = get_dummy_mol(self.name, self.mapping_idxs, id=self.id)\n",
    "        self.dummy_smile = to_smile(self.dummy)\n",
    "        \n",
    "    def match_and_map(self, fragment):\n",
    "        outputs = []\n",
    "        if is_mapped(fragment):\n",
    "            if self.match_mapped_fragment(fragment):\n",
    "                outputs = [fragment]\n",
    "        elif self.match_unmapped_fragment(fragment):\n",
    "            outputs = generate_mapping_permutations(fragment, self.mapping_idxs, exact=True)\n",
    "            \n",
    "        return outputs\n",
    "        \n",
    "    def assemble(self, assembly_dict):\n",
    "        node_data = {'source' : self.name}\n",
    "        molecule = Molecule(assembly_dict.get(self.name, ''), data=node_data)\n",
    "        template_result = self.template_screen(molecule)\n",
    "        \n",
    "        assembly_str = visualize_assembly(molecule)\n",
    "        molecule.add_data({'assembly_string' : assembly_str, 'template_overall' : template_result.result})\n",
    "        return molecule"
   ]
  },
  {
   "cell_type": "code",
   "execution_count": null,
   "metadata": {},
   "outputs": [],
   "source": [
    "R1 = FragmentLeafNode('R1', [1])\n",
    "scaffold = FragmentLeafNode('Scaffold', [1, 2])\n",
    "\n",
    "assert R1.match_unmapped_fragment('*C')\n",
    "assert not R1.match_unmapped_fragment('*C*')\n",
    "assert R1.match_mapped_fragment('[*:1]C')\n",
    "assert not R1.match_mapped_fragment('*C')\n",
    "assert scaffold.match_unmapped_fragment('*C*')\n",
    "assert scaffold.match_and_map('*C*') == ['[*:1]C[*:2]', '[*:2]C[*:1]']"
   ]
  },
  {
   "cell_type": "code",
   "execution_count": null,
   "metadata": {},
   "outputs": [],
   "source": [
    "#| export\n",
    "\n",
    "class ConstantFragmentNode(FragmentNode):\n",
    "    def __init__(self, \n",
    "                 name: str, \n",
    "                 fragment_smiles: str):\n",
    "        \n",
    "        assert is_mapped(fragment_smiles), \"fragment_smiles must be mapped\"\n",
    "        \n",
    "        patt = re.compile('\\[\\*(.*?)]')\n",
    "        self.mapping_idxs = sorted([int(i[1:]) for i in patt.findall(fragment_smiles)])\n",
    "        self.fragment_smiles = fragment_smiles\n",
    "        self.dummy_smile = fragment_smiles\n",
    "        self.dummy = to_mol(self.dummy_smile)\n",
    "        super().__init__(name, None)\n",
    "        \n",
    "    def build_dummy(self):\n",
    "        pass\n",
    "    \n",
    "    def match_and_map(self, fragments):\n",
    "        return []\n",
    "    \n",
    "    def match_unmapped_fragment(self, fragment):\n",
    "        return False\n",
    "    \n",
    "    def match_mapped_fragment(self, fragment):\n",
    "        return False\n",
    "        \n",
    "    def assemble(self, assembly_dict):\n",
    "        if assembly_dict.get(self.name, ''):\n",
    "            warnings.warn(\n",
    "                f\"warning: fragment {assembly_dict.get(self.name, '')} routed to constant node {self.name}\")\n",
    "            \n",
    "        node_data = {'source' : self.name}\n",
    "        molecule = Molecule(self.fragment_smiles, data=node_data)\n",
    "        assembly_str = visualize_assembly(molecule)\n",
    "        molecule.add_data({'assembly_string' : assembly_str})\n",
    "        return molecule"
   ]
  },
  {
   "cell_type": "code",
   "execution_count": null,
   "metadata": {},
   "outputs": [
    {
     "data": {
      "text/plain": [
       "R2: [*:2]c1ccccc1"
      ]
     },
     "execution_count": null,
     "metadata": {},
     "output_type": "execute_result"
    }
   ],
   "source": [
    "R2 = ConstantFragmentNode('R2', '[*:2]c1ccccc1')\n",
    "R2"
   ]
  },
  {
   "cell_type": "code",
   "execution_count": null,
   "metadata": {},
   "outputs": [],
   "source": [
    "#| export\n",
    "\n",
    "class AssembledFragmentNode(FragmentNode):\n",
    "    def __init__(self, \n",
    "                 name: str, \n",
    "                 children: list[FragmentNode], \n",
    "                 template: Template=None):\n",
    "        \n",
    "        self.children = children\n",
    "        super().__init__(name, template)\n",
    "        \n",
    "    def build_dummy(self):\n",
    "        self.dummy = combine_dummies([child.dummy for child in self.children])\n",
    "        self.dummy_smile = to_smile(self.dummy)\n",
    "        patt = re.compile('\\[\\*(.*?)]')\n",
    "        self.mapping_idxs = sorted([int(i[1:]) for i in patt.findall(self.dummy_smile)])\n",
    "        \n",
    "    def assemble(self, assembly_dict):\n",
    "        \n",
    "        child_molecules = [child.assemble(assembly_dict) for child in self.children]\n",
    "        input_smiles = '.'.join([i.smile for i in child_molecules])\n",
    "        fused_smile = fuse_smile_on_atom_mapping(input_smiles)\n",
    "        \n",
    "        node_data = {\n",
    "                    'source' : self.name,\n",
    "                    'source_molecules' : child_molecules,\n",
    "                    'input_smiles' : input_smiles\n",
    "                    }\n",
    "        \n",
    "        molecule = Molecule(fused_smile, data=node_data)\n",
    "        template_result = self.template_screen(molecule)\n",
    "        \n",
    "        prev_template = all([getattr(child, 'template_overall', True) for child in child_molecules])\n",
    "        \n",
    "        assembly_str = visualize_assembly(molecule)\n",
    "        molecule.add_data({'assembly_string' : assembly_str, \n",
    "                           'template_overall' : template_result.result and prev_template})\n",
    "        return molecule"
   ]
  },
  {
   "cell_type": "code",
   "execution_count": null,
   "metadata": {},
   "outputs": [
    {
     "data": {
      "text/plain": [
       "Assembled: c1ccc([Scaffold][R1])cc1\n",
       "\n",
       "\tR1: [*:1][R1]\n",
       "\tScaffold: [*:1][Scaffold][*:2]\n",
       "\tR2: [*:2]c1ccccc1"
      ]
     },
     "execution_count": null,
     "metadata": {},
     "output_type": "execute_result"
    }
   ],
   "source": [
    "Assembled = AssembledFragmentNode('Assembled', [R1, scaffold, R2])\n",
    "Assembled"
   ]
  },
  {
   "cell_type": "code",
   "execution_count": null,
   "metadata": {},
   "outputs": [],
   "source": []
  },
  {
   "cell_type": "code",
   "execution_count": null,
   "metadata": {},
   "outputs": [],
   "source": [
    "#| hide\n",
    "import nbdev; nbdev.nbdev_export()"
   ]
  },
  {
   "cell_type": "code",
   "execution_count": null,
   "metadata": {},
   "outputs": [],
   "source": []
  }
 ],
 "metadata": {
  "kernelspec": {
   "display_name": "chem_templates",
   "language": "python",
   "name": "chem_templates"
  }
 },
 "nbformat": 4,
 "nbformat_minor": 4
}
