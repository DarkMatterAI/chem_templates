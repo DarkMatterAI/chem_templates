{
 "cells": [
  {
   "cell_type": "markdown",
   "metadata": {},
   "source": [
    "# Template Tutorial\n",
    "\n",
    "> How to use templates to define chemical space"
   ]
  },
  {
   "cell_type": "code",
   "execution_count": null,
   "metadata": {},
   "outputs": [],
   "source": [
    "from chem_templates.filter import RangeFunctionFilter, SmartsFilter, CatalogFilter, \\\n",
    "BinaryFunctionFilter, DataFunctionFilter\n",
    "from chem_templates.chem import Molecule, Catalog\n",
    "from chem_templates.template import Template\n",
    "\n",
    "from rdkit import Chem\n",
    "from rdkit.Chem import rdMolDescriptors, Descriptors\n",
    "from rdkit.Chem.FilterCatalog import FilterCatalogParams"
   ]
  },
  {
   "cell_type": "markdown",
   "metadata": {},
   "source": [
    "A fundamental step in computational drug design is defining _what molecules we want_. If we don't have a sense of what molecules are in-spec for a specific project, we risk wasting significant effort screening irrelevant or flawed compounds.\n",
    "\n",
    "The `chem_templates` library enables defining expressive and detailed chemical spaces by defining a `Template` made from various `Filter` screens"
   ]
  },
  {
   "cell_type": "markdown",
   "metadata": {},
   "source": [
    "## Filters\n",
    "\n",
    "The `Filter` class lets us define pass/fail requirements for a molecule. A filter can be made from any function or evaluation that takes in a `Molecule` object and returns a `True/False` result.\n",
    "\n",
    "The most common type of filter used is `RangeFunctionFilter`. This uses some function that maps a `Molecule` to a numeric value, and checks to see if the value is within some range. The example below filters molecules based on the number of rings present:"
   ]
  },
  {
   "cell_type": "code",
   "execution_count": null,
   "metadata": {},
   "outputs": [
    {
     "data": {
      "text/plain": [
       "[False, True, True, False]"
      ]
     },
     "execution_count": null,
     "metadata": {},
     "output_type": "execute_result"
    }
   ],
   "source": [
    "def num_rings(molecule):\n",
    "    return rdMolDescriptors.CalcNumRings(molecule.mol)\n",
    "    \n",
    "filter_name = 'rings' # filter name \n",
    "min_val = 1 # minimum number of rings (inclusive)\n",
    "max_val = 2 # maximum number of rings (inclusive)\n",
    "ring_filter = RangeFunctionFilter(num_rings, filter_name, min_val, max_val)\n",
    "\n",
    "no_rings = Molecule('CCCC')\n",
    "one_ring = Molecule('c1ccccc1')\n",
    "two_rings = Molecule('c1ccc(Cc2ccccc2)cc1')\n",
    "three_rings = Molecule('c1ccc(Cc2ccccc2Cc2ccccc2)cc1')\n",
    "\n",
    "results = [\n",
    "    ring_filter(no_rings),\n",
    "    ring_filter(one_ring),\n",
    "    ring_filter(two_rings),\n",
    "    ring_filter(three_rings)\n",
    "]\n",
    "\n",
    "[i.filter_result for i in results]"
   ]
  },
  {
   "cell_type": "markdown",
   "metadata": {},
   "source": [
    "Results are returned in the form of the `FilterResult` which holds the aggregate boolean result (True/False pass/fail), the name of the filter, and any data added by the filter.\n",
    "\n",
    "The `RangeFunctionFilter` automatically adds data on the value computed by the function, as well as the min/max values for the range"
   ]
  },
  {
   "cell_type": "code",
   "execution_count": null,
   "metadata": {},
   "outputs": [
    {
     "name": "stdout",
     "output_type": "stream",
     "text": [
      "False rings {'computed_value': 0, 'min_val': 1, 'max_val': 2}\n"
     ]
    }
   ],
   "source": [
    "res = results[0]\n",
    "print(res.filter_result, res.filter_name, res.filter_data)"
   ]
  },
  {
   "cell_type": "markdown",
   "metadata": {},
   "source": [
    "We can also filter with SMARTS string substructure match using `SmartsFilter`"
   ]
  },
  {
   "cell_type": "code",
   "execution_count": null,
   "metadata": {},
   "outputs": [
    {
     "data": {
      "text/plain": [
       "[True, False, True]"
      ]
     },
     "execution_count": null,
     "metadata": {},
     "output_type": "execute_result"
    }
   ],
   "source": [
    "smarts_string = '[#6]1:[#6]:[#6]:[#7]:[#6]:[#6]:1' # filter for pyridine ring\n",
    "name = 'pyridine'\n",
    "exclude = True # exclude matches\n",
    "min_val = 1 # min number of matches to trigger filter\n",
    "max_val = None # max number of matches to trigger filter (None resolves to any value above min_val)\n",
    "\n",
    "smarts_filter = SmartsFilter(smarts_string, name, exclude, min_val, max_val)\n",
    "\n",
    "benzene = Molecule('c1ccccc1')\n",
    "pyridine = Molecule('c1cnccc1')\n",
    "two_nitrogen = Molecule('c1cnncc1')\n",
    "\n",
    "results = [\n",
    "    smarts_filter(benzene),\n",
    "    smarts_filter(pyridine),\n",
    "    smarts_filter(two_nitrogen)\n",
    "]\n",
    "\n",
    "[i.filter_result for i in results]"
   ]
  },
  {
   "cell_type": "markdown",
   "metadata": {},
   "source": [
    "The `CatalogFilter` class lets us filter on [rdkit catalogs](https://www.rdkit.org/docs/source/rdkit.Chem.rdfiltercatalog.html#rdkit.Chem.rdfiltercatalog.FilterCatalogParams.FilterCatalogs). The example below filters on the PAINS catalog:"
   ]
  },
  {
   "cell_type": "code",
   "execution_count": null,
   "metadata": {},
   "outputs": [
    {
     "data": {
      "text/plain": [
       "[True, False]"
      ]
     },
     "execution_count": null,
     "metadata": {},
     "output_type": "execute_result"
    }
   ],
   "source": [
    "catalog = Catalog.from_params(FilterCatalogParams.FilterCatalogs.PAINS)\n",
    "pains_filter = CatalogFilter(catalog, 'pains')\n",
    "\n",
    "pains_passing = Molecule('c1ccccc1Nc1ccccc1')\n",
    "pains_failing = Molecule('c1ccccc1N=Nc1ccccc1')\n",
    "\n",
    "results = [\n",
    "    pains_filter(pains_passing),\n",
    "    pains_filter(pains_failing)\n",
    "]\n",
    "\n",
    "[i.filter_result for i in results]"
   ]
  },
  {
   "cell_type": "markdown",
   "metadata": {},
   "source": [
    "## Custom Filters\n",
    "\n",
    "To allow for flexibility, the `BinaryFunctionFilter` and `DataFunctionFilter` allow us to make filters from arbitrary functions.\n",
    "\n",
    "The `BinaryFunctionFilter` class works with any function that maps a `Molecule` to a boolean value:"
   ]
  },
  {
   "cell_type": "code",
   "execution_count": null,
   "metadata": {},
   "outputs": [
    {
     "name": "stdout",
     "output_type": "stream",
     "text": [
      "True\n"
     ]
    }
   ],
   "source": [
    "def my_func(molecule):\n",
    "    if rdMolDescriptors.CalcExactMolWt(molecule.mol) > 150 and Chem.QED.qed(molecule.mol) > 0.6:\n",
    "        return True\n",
    "    else:\n",
    "        return False\n",
    "    \n",
    "my_filter = BinaryFunctionFilter(my_func, 'molwt_plus_qed')\n",
    "\n",
    "print(my_filter(Molecule('c1ccc(Cc2ccccc2)cc1')).filter_result)"
   ]
  },
  {
   "cell_type": "markdown",
   "metadata": {},
   "source": [
    "If we want more information about what the filter function has computed, we can use the `BinaryFunctionFilter` class. This works in the same way, but expects the filter function to also return a dictionary of values"
   ]
  },
  {
   "cell_type": "code",
   "execution_count": null,
   "metadata": {},
   "outputs": [
    {
     "name": "stdout",
     "output_type": "stream",
     "text": [
      "True {'molwt': 168.093900384, 'qed': 0.6452001853099995}\n"
     ]
    }
   ],
   "source": [
    "def my_func(molecule):\n",
    "    molwt = rdMolDescriptors.CalcExactMolWt(molecule.mol)\n",
    "    qed = Chem.QED.qed(molecule.mol)\n",
    "    \n",
    "    data_dict = {'molwt' : molwt, 'qed' : qed}\n",
    "    \n",
    "    if molwt > 150 and qed > 0.6:\n",
    "        return True, data_dict\n",
    "    else:\n",
    "        return False, data_dict\n",
    "    \n",
    "my_filter = DataFunctionFilter(my_func, 'molwt_plus_qed')\n",
    "\n",
    "result = my_filter(Molecule('c1ccc(Cc2ccccc2)cc1'))\n",
    "\n",
    "print(result.filter_result, result.filter_data)"
   ]
  },
  {
   "cell_type": "markdown",
   "metadata": {},
   "source": [
    "## Templates\n",
    "\n",
    "The `Template` class holds multiple filters and executes them together. Below is an example of implementing the [Rule of Five](https://en.wikipedia.org/wiki/Lipinski%27s_rule_of_five) with a template:"
   ]
  },
  {
   "cell_type": "code",
   "execution_count": null,
   "metadata": {},
   "outputs": [],
   "source": [
    "def hbd(molecule):\n",
    "    return rdMolDescriptors.CalcNumHBD(molecule.mol)\n",
    "\n",
    "def hba(molecule):\n",
    "    return rdMolDescriptors.CalcNumHBA(molecule.mol)\n",
    "\n",
    "def molwt(molecule):\n",
    "    return rdMolDescriptors.CalcExactMolWt(molecule.mol)\n",
    "\n",
    "def logp(molecule):\n",
    "    return Descriptors.MolLogP(molecule.mol)\n",
    "\n",
    "hbd_filter = RangeFunctionFilter(hbd, 'hydrogen_bond_donor', None, 5)\n",
    "hba_filter = RangeFunctionFilter(hba, 'hydrogen_bond_acceptor', None, 10)\n",
    "molwt_filter = RangeFunctionFilter(molwt, 'mol_weight', None, 500)\n",
    "logp_filter = RangeFunctionFilter(logp, 'logp', None, 5)\n",
    "\n",
    "filters = [\n",
    "    hbd_filter,\n",
    "    hba_filter,\n",
    "    molwt_filter,\n",
    "    logp_filter\n",
    "]\n",
    "\n",
    "ro5_template = Template(filters)\n",
    "\n",
    "molecule = Molecule('CC1=CN=C(C(=C1OC)C)CS(=O)C2=NC3=C(N2)C=C(C=C3)OC')\n",
    "result = ro5_template(molecule)"
   ]
  },
  {
   "cell_type": "markdown",
   "metadata": {},
   "source": [
    "Template results are returned as a `TemplateResult`, which holds the overall True/False result, as well as results and data from individual filters"
   ]
  },
  {
   "cell_type": "code",
   "execution_count": null,
   "metadata": {},
   "outputs": [
    {
     "name": "stdout",
     "output_type": "stream",
     "text": [
      "True\n",
      "[True, True, True, True]\n",
      "[hydrogen_bond_donor result: True, hydrogen_bond_acceptor result: True, mol_weight result: True, logp result: True]\n"
     ]
    }
   ],
   "source": [
    "print(result.result)\n",
    "print(result.filter_results)\n",
    "print(result.filter_data)"
   ]
  },
  {
   "cell_type": "markdown",
   "metadata": {},
   "source": [
    "## Suggested Template Usage\n",
    "\n",
    "The following are suggestions for getting the most out of chemical templates:\n",
    "\n",
    "### Leverage Cheap Filters\n",
    "\n",
    "A major advantage of using filters/templates at scale is the cost per filter per molecule is generally low. Computing the molecular weight or number of rings in a compound is significantly cheaper compared to virtual screening methods such as predictive models or docking. Filters can be used to cheaply eliminate \"out of spec\" molecules before passing \"in spec\" molecules to more sophisticated screening methods.\n",
    "\n",
    "### Maintain Desired Chemotypes\n",
    "\n",
    "If a drug project has a desired chemotype or chemotypes, we want to eliminate molecules that don't match the desired chemotype(s). We can define the chemotype using SMARTS strings, and use `SmartsFilter` with `exclude=False` to eliminate molecules that don't match the chemotype SMARTS.\n",
    "\n",
    "\n",
    "### Control IP Space\n",
    "\n",
    "If you wish to avoid pre-existing IP, you can specify infringing chemotypes with SMARTS strings and use `SmartsFilter` with `exclude=True` to eliminate possibly infringing molecules\n",
    "\n",
    "### Synthetic Accessibility \n",
    "\n",
    "Synthetic accessibility is a major factor in designing novel compounds. Given that synthesis bandwidth is typically a bottleneck in discovery pipelines, we want to avoid difficult to synthesize compounds that drain lab resources from other compounds. This challenge is often approached in literature using [SA Score](https://jcheminf.biomedcentral.com/articles/10.1186/1758-2946-1-8).\n",
    "\n",
    "Unfortunately, SA score is often a poor fit for real discovery projects. SA score basically computes properties related to size, stereocenters, spiro-carbons, bridge-head carbons, and macrocycles, and renders those values into an aggregate score. While the SA score evaluation is generally reasonable from a \"synthesize from scratch\" perspective, it doesn't capture the reality in the lab. For example, plenty of compounds with terrible SA scores can be easily created by taking advantage of building blocks that contain difficult structures.\n",
    "\n",
    "SA score fails to capture the question of \"how hard is it for my specific lab team to make this compound\". A better approach is to work with the lab team to define what compounds/substructures are hard to synthesize and develop a set of custom \"SA score\" filters based on this information."
   ]
  },
  {
   "cell_type": "code",
   "execution_count": null,
   "metadata": {},
   "outputs": [],
   "source": []
  }
 ],
 "metadata": {
  "kernelspec": {
   "display_name": "python3",
   "language": "python",
   "name": "python3"
  }
 },
 "nbformat": 4,
 "nbformat_minor": 5
}
