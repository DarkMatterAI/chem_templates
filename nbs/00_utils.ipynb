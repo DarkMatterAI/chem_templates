{
 "cells": [
  {
   "cell_type": "markdown",
   "metadata": {},
   "source": [
    "# Utils\n",
    "\n",
    "> Python helper functions"
   ]
  },
  {
   "cell_type": "code",
   "execution_count": null,
   "metadata": {},
   "outputs": [],
   "source": [
    "#| default_exp utils"
   ]
  },
  {
   "cell_type": "code",
   "execution_count": null,
   "metadata": {},
   "outputs": [],
   "source": [
    "#| hide\n",
    "from nbdev.showdoc import *"
   ]
  },
  {
   "cell_type": "code",
   "execution_count": null,
   "metadata": {},
   "outputs": [],
   "source": [
    "#| export\n",
    "from chem_templates.imports import *"
   ]
  },
  {
   "cell_type": "code",
   "execution_count": null,
   "metadata": {},
   "outputs": [],
   "source": [
    "#| export\n",
    "def flatten_list(input: list[list] # nested list\n",
    "                ) -> list: # flattened list\n",
    "    \"Flattens list of lists (not recursive)\"\n",
    "    return [item for sublist in input for item in sublist]\n",
    "\n",
    "def deduplicate_list(input: list # input list containing duplicates\n",
    "                    ) -> list: # output list, deduplicated\n",
    "    'deduplicates list while maintaining order'\n",
    "    return list(OrderedDict.fromkeys(input)) \n",
    "\n",
    "def validate_range(min_val:   Union[int, float, None], # minimum range value\n",
    "                   max_val:   Union[int, float, None], # maximum range value\n",
    "                   min_limit: Union[int, float], # min value limit - replaces `min_val` if `min_val` is None\n",
    "                   max_limit: Union[int, float]  # max value limit - replaces `max_val` if `max_val` is None\n",
    "                  ) -> Tuple[Union[int, float], Union[int, float]]: # resolved [min_val, max_val] range\n",
    "    \n",
    "    '''\n",
    "    given a range `min_val`, `max_val`, and range limits `min_limit`, `max_limit`, this \n",
    "    function verifies that `min_limit < min_val < max_val < max_limit` and returns the resolved range\n",
    "    '''\n",
    "    \n",
    "    if (min_val is None) and (max_val is None):\n",
    "        raise ValueError('one of min_val or max_val must be defined')\n",
    "        \n",
    "    if min_val is None:\n",
    "        min_val = min_limit\n",
    "        \n",
    "    if max_val is None:\n",
    "        max_val = max_limit\n",
    "        \n",
    "    if min_val > max_val:\n",
    "        raise ValueError('min_val must be less than max_val')\n",
    "        \n",
    "    if min_val < min_limit:\n",
    "        raise ValueError('min_val less than min_limit')\n",
    "        \n",
    "    if max_val > max_limit:\n",
    "        raise ValueError('max_val greater than max_limit')\n",
    "        \n",
    "    return min_val, max_val"
   ]
  },
  {
   "cell_type": "code",
   "execution_count": null,
   "metadata": {},
   "outputs": [],
   "source": [
    "assert deduplicate_list([1,2,2,3,5,3]) == [1, 2, 3, 5]"
   ]
  },
  {
   "cell_type": "code",
   "execution_count": null,
   "metadata": {},
   "outputs": [],
   "source": [
    "assert flatten_list([[1], [2]]) == [1, 2]"
   ]
  },
  {
   "cell_type": "code",
   "execution_count": null,
   "metadata": {},
   "outputs": [],
   "source": [
    "#| hide\n",
    "import nbdev; nbdev.nbdev_export()"
   ]
  },
  {
   "cell_type": "code",
   "execution_count": null,
   "metadata": {},
   "outputs": [],
   "source": []
  }
 ],
 "metadata": {
  "kernelspec": {
   "display_name": "chem_templates",
   "language": "python",
   "name": "chem_templates"
  }
 },
 "nbformat": 4,
 "nbformat_minor": 4
}
