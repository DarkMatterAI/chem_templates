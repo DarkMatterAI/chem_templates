{
 "cells": [
  {
   "cell_type": "markdown",
   "metadata": {},
   "source": [
    "# Building Block Assembly\n",
    "\n",
    "> Building block assembly related functions"
   ]
  },
  {
   "cell_type": "code",
   "execution_count": null,
   "metadata": {},
   "outputs": [],
   "source": [
    "#| default_exp building_block_assembly"
   ]
  },
  {
   "cell_type": "code",
   "execution_count": null,
   "metadata": {},
   "outputs": [],
   "source": [
    "#| hide\n",
    "from nbdev.showdoc import *\n",
    "%load_ext autoreload\n",
    "%autoreload 2"
   ]
  },
  {
   "cell_type": "code",
   "execution_count": null,
   "metadata": {},
   "outputs": [
    {
     "name": "stderr",
     "output_type": "stream",
     "text": [
      "/home/dmai/miniconda3/envs/chem_templates/lib/python3.9/site-packages/tqdm/auto.py:22: TqdmWarning: IProgress not found. Please update jupyter and ipywidgets. See https://ipywidgets.readthedocs.io/en/stable/user_install.html\n",
      "  from .autonotebook import tqdm as notebook_tqdm\n"
     ]
    }
   ],
   "source": [
    "#| export\n",
    "from __future__ import annotations\n",
    "from chem_templates.imports import *\n",
    "from chem_templates.utils import *\n",
    "from chem_templates.building_blocks import Synthon, BuildingBlock, ReactionGroup, ReactionUniverse\n",
    "from chem_templates.template import Template, TemplateResult"
   ]
  },
  {
   "cell_type": "code",
   "execution_count": null,
   "metadata": {},
   "outputs": [
    {
     "ename": "SyntaxError",
     "evalue": "invalid syntax (2126166158.py, line 4)",
     "output_type": "error",
     "traceback": [
      "\u001b[0;36m  Cell \u001b[0;32mIn[4], line 4\u001b[0;36m\u001b[0m\n\u001b[0;31m    def __init__(self, synthons Optional[Synthon]=None):\u001b[0m\n\u001b[0m                                ^\u001b[0m\n\u001b[0;31mSyntaxError\u001b[0m\u001b[0;31m:\u001b[0m invalid syntax\n"
     ]
    }
   ],
   "source": [
    "#| export\n",
    "\n",
    "class AssemblyPool():\n",
    "    def __init__(self, synthons: Optional[Synthon]=None):\n",
    "        self.synthons = []\n",
    "        self.mark_to_synthon = defaultdict(list)\n",
    "        if synthons:\n",
    "            for synthon in synthons:\n",
    "                self.add_synthon(synthon)\n",
    "        \n",
    "    def add_synthon(self, synthon: Synthon):\n",
    "        self.synthons.append(synthon)\n",
    "        for mark in synthon.marks:\n",
    "            self.mark_to_synthon[mark].append(synthon)\n",
    "            \n",
    "    def reaction_filter(self, rxn_universe: ReactionUniverse) -> AssemblyPool:\n",
    "        valid = []\n",
    "        for synthon in self.synthons:\n",
    "            if rxn_universe.get_matching_reactions(synthon):\n",
    "                valid.append(synthon)\n",
    "                \n",
    "        return AssemblyPool(valid)\n",
    "    \n",
    "    def get_matching(self, query_synthon: Synthon) -> list[Synthon]:\n",
    "        matching_synthons = []\n",
    "        for mark in query_synthon.compatible_marks:\n",
    "            matching_synthons += self.mark_to_synthon[mark]\n",
    "            \n",
    "        return deduplicate_list(matching_synthons)"
   ]
  },
  {
   "cell_type": "code",
   "execution_count": null,
   "metadata": {},
   "outputs": [],
   "source": [
    "#| export\n",
    "\n",
    "class BuildingBlockNode():\n",
    "    def __init__(self, name: str, template: Optional[Template]=None):\n",
    "        self.name = name\n",
    "        self.template = template\n",
    "        \n",
    "    def template_screen(self, synthon: Synthon, store_data: bool=True) -> TemplateResult:\n",
    "        if self.template is not None:\n",
    "            output = self.template(synthon)\n",
    "        else:\n",
    "            output = TemplateResult(True, [], [])\n",
    "        \n",
    "        if store_data:\n",
    "            synthon.add_data({'template_data' : output, 'template_result' : output.result})\n",
    "            \n",
    "        return output"
   ]
  },
  {
   "cell_type": "code",
   "execution_count": null,
   "metadata": {},
   "outputs": [],
   "source": [
    "#| export\n",
    "\n",
    "class ReactionNode(BuildingBlockNode):\n",
    "    def __init__(self, name: str, reaction_universe: ReactionUniverse):\n",
    "        super().__init__(name, None)\n",
    "        self.reaction_universe = reaction_universe"
   ]
  },
  {
   "cell_type": "code",
   "execution_count": null,
   "metadata": {},
   "outputs": [],
   "source": [
    "#| export\n",
    "\n",
    "class SynthonNode(BuildingBlockNode):\n",
    "    def __init__(self, name: str, template: Optional[Template]=None):\n",
    "        super().__init__(name, template)"
   ]
  },
  {
   "cell_type": "code",
   "execution_count": null,
   "metadata": {},
   "outputs": [],
   "source": [
    "#| export\n",
    "\n",
    "class ProductNode(BuildingBlockNode):\n",
    "    def __init__(self, \n",
    "                 name: str, \n",
    "                 incoming_node: Union[SynthonNode, ProductNode], \n",
    "                 reaction_node: ReactionNode,\n",
    "                 next_node: Union[SynthonNode, ProductNode],\n",
    "                 template: Optional[Template]=None\n",
    "                ):\n",
    "        super().__init__(name, template)\n",
    "        \n",
    "        self.incoming_node = incoming_node\n",
    "        self.reaction_node = reaction_node\n",
    "        self.next_node = next_node"
   ]
  },
  {
   "cell_type": "code",
   "execution_count": null,
   "metadata": {},
   "outputs": [],
   "source": [
    "#| hide\n",
    "import nbdev; nbdev.nbdev_export()"
   ]
  },
  {
   "cell_type": "code",
   "execution_count": null,
   "metadata": {},
   "outputs": [],
   "source": []
  },
  {
   "cell_type": "markdown",
   "metadata": {},
   "source": [
    "do we have bbs as inputs or synthons?\n",
    "need to be able to trace back to initial bbs/synthons and reconstruct assembly inputs\n",
    "assembly class to track construction?\n",
    "\n",
    "synthon nodes - take in synthon. have template\n",
    "\n",
    "constant nodes - constant synthon\n",
    "\n",
    "reaction node - holds allowed reactions, incoming node (synthon or product), next synthon node\n",
    "\n",
    "perhaps\n",
    "assign pool of synthons to each node based on node template\n",
    "synthon nodes can have a parent attr to grab reaction node for rxn screening?\n",
    "\n",
    "synthon node:\n",
    "    to setup:\n",
    "        assign pool of possible BBs based on attachments / template\n",
    "    during assembly:\n",
    "        pushes pool upward\n",
    "        \n",
    "reaction node\n",
    "    assembly:\n",
    "        filter incoming pool by reactant to create (incoming, rxn) pairs\n",
    "        \n",
    "        \n",
    "        \n",
    "synthon pool\n",
    "    list of current synthons\n",
    "    dict of `mapping` to list of synthons\n",
    "        ie grab synthon from pool A, get `compatible_marks`, look up `compatible_marks` on mapping dict in pool B,\n",
    "        \n",
    "        \n",
    "assembly modes\n",
    "    product (full combi)\n",
    "    random\n",
    "        randomly grab synthon from pool A\n",
    "        randomly grab synthons from pool B until a pair is found that's compatible by the current rxn universe\n",
    "        react\n",
    "    both methods:\n",
    "        build `chunksize` preassemblies in parallel\n",
    "        go until exhausted or limit reached"
   ]
  },
  {
   "cell_type": "code",
   "execution_count": null,
   "metadata": {},
   "outputs": [],
   "source": []
  },
  {
   "cell_type": "code",
   "execution_count": null,
   "metadata": {},
   "outputs": [],
   "source": []
  },
  {
   "cell_type": "code",
   "execution_count": null,
   "metadata": {},
   "outputs": [],
   "source": []
  }
 ],
 "metadata": {
  "kernelspec": {
   "display_name": "chem_templates",
   "language": "python",
   "name": "chem_templates"
  }
 },
 "nbformat": 4,
 "nbformat_minor": 4
}
