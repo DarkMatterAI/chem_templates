{
 "cells": [
  {
   "cell_type": "markdown",
   "metadata": {},
   "source": [
    "# Filters\n",
    "\n",
    "> Filter related functions"
   ]
  },
  {
   "cell_type": "code",
   "execution_count": null,
   "metadata": {},
   "outputs": [],
   "source": [
    "#| default_exp filter"
   ]
  },
  {
   "cell_type": "code",
   "execution_count": null,
   "metadata": {},
   "outputs": [],
   "source": [
    "#| hide\n",
    "from nbdev.showdoc import *\n",
    "%load_ext autoreload\n",
    "%autoreload 2"
   ]
  },
  {
   "cell_type": "code",
   "execution_count": null,
   "metadata": {},
   "outputs": [
    {
     "name": "stderr",
     "output_type": "stream",
     "text": [
      "/Users/karlheyer/miniconda3/envs/chem_templates/lib/python3.9/site-packages/tqdm/auto.py:21: TqdmWarning: IProgress not found. Please update jupyter and ipywidgets. See https://ipywidgets.readthedocs.io/en/stable/user_install.html\n",
      "  from .autonotebook import tqdm as notebook_tqdm\n"
     ]
    }
   ],
   "source": [
    "#| export\n",
    "from chem_templates.imports import *\n",
    "from chem_templates.utils import *\n",
    "from chem_templates.chem import Molecule, Catalog, mol_func_wrapper\n",
    "from rdkit.Chem.FilterCatalog import SmartsMatcher"
   ]
  },
  {
   "cell_type": "code",
   "execution_count": null,
   "metadata": {},
   "outputs": [],
   "source": [
    "#| export\n",
    "\n",
    "class FilterResult():\n",
    "    'Container for filter results'\n",
    "    def __init__(self, \n",
    "                 filter_result: bool, # overall filter result (True or False)\n",
    "                 filter_name:   str,  # name of filter\n",
    "                 filter_data:   dict  # filter data dict\n",
    "                ):\n",
    "        \n",
    "        self.filter_result = filter_result\n",
    "        self.filter_name = filter_name\n",
    "        self.filter_data = filter_data\n",
    "        \n",
    "    def __repr__(self):\n",
    "        return f'{self.filter_name} result: {self.filter_result}'\n",
    "\n",
    "class Filter():\n",
    "    'Filter base class'\n",
    "    def __init__(self, name='filter' # filter name\n",
    "                ):\n",
    "        self.name = name\n",
    "        \n",
    "    def __call__(self, molecule: Molecule) -> FilterResult:\n",
    "        return FilterResult(True, self.name, {})\n",
    "    \n",
    "    def __repr__(self):\n",
    "        return self.name"
   ]
  },
  {
   "cell_type": "code",
   "execution_count": null,
   "metadata": {},
   "outputs": [],
   "source": [
    "#| export\n",
    "\n",
    "class ValidityFilter(Filter):\n",
    "    'Checks if molecule is valid'\n",
    "    def __init__(self):\n",
    "        self.name = 'validity_filter'\n",
    "        \n",
    "    def __call__(self, molecule: Molecule) -> FilterResult:\n",
    "        return FilterResult(molecule.valid, self.name, {})\n",
    "    \n",
    "class SingleCompoundFilter(Filter):\n",
    "    'Checks if molecule is a single compound'\n",
    "    def __init__(self):\n",
    "        self.name = 'single_compound'\n",
    "        \n",
    "    def __call__(self, molecule: Molecule) -> FilterResult:\n",
    "        result = not ('.' in molecule.smile)\n",
    "        return FilterResult(result, self.name, {})"
   ]
  },
  {
   "cell_type": "code",
   "execution_count": null,
   "metadata": {},
   "outputs": [],
   "source": [
    "mol1 = Molecule('CCCC')\n",
    "mol2 = Molecule('CCCc')\n",
    "mol3 = Molecule('CCC.CCCC')\n",
    "\n",
    "f1 = ValidityFilter()\n",
    "f2 = SingleCompoundFilter()\n",
    "\n",
    "assert f1(mol1).filter_result\n",
    "assert not f1(mol2).filter_result\n",
    "assert f1(mol3).filter_result\n",
    "\n",
    "assert f2(mol1).filter_result\n",
    "assert not f2(mol3).filter_result"
   ]
  },
  {
   "cell_type": "code",
   "execution_count": null,
   "metadata": {},
   "outputs": [],
   "source": [
    "#| export\n",
    "\n",
    "class AttachmentCountFilter(Filter):\n",
    "    'Checks number of dummy attachment atoms'\n",
    "    def __init__(self, \n",
    "                 num_attachments: int):\n",
    "        \n",
    "        self.num_attachments = num_attachments\n",
    "        self.name = f'attachment_count_{num_attachments}'\n",
    "        \n",
    "    def __call__(self, molecule: Molecule) -> FilterResult:\n",
    "        num_attachments = molecule.smile.count('*')\n",
    "        \n",
    "        result = num_attachments == self.num_attachments\n",
    "        data = {'num_attachments' : num_attachments}\n",
    "        \n",
    "        return FilterResult(result, self.name, data)\n"
   ]
  },
  {
   "cell_type": "code",
   "execution_count": null,
   "metadata": {},
   "outputs": [],
   "source": [
    "mol1 = Molecule('[*:1]CC')\n",
    "mol2 = Molecule('[*:1]CC[*:2]')\n",
    "f = AttachmentCountFilter(1)\n",
    "\n",
    "assert f(mol1).filter_result\n",
    "assert not f(mol2).filter_result"
   ]
  },
  {
   "cell_type": "code",
   "execution_count": null,
   "metadata": {},
   "outputs": [],
   "source": [
    "#| export\n",
    "\n",
    "class BinaryFunctionFilter(Filter):\n",
    "    def __init__(self, \n",
    "            func: Callable[[Molecule], bool], # callable function that takes a Molecule as input and returns a bool\n",
    "            name: str # filter name\n",
    "                ):\n",
    "        'Filters based on the result of `func`'\n",
    "        \n",
    "        self.name = name\n",
    "        self.func = func\n",
    "        \n",
    "    def __call__(self, molecule: Molecule) -> FilterResult:\n",
    "        result = self.func(molecule)\n",
    "        \n",
    "        return FilterResult(result, self.name, {})\n",
    "    \n",
    "class DataFunctionFilter(Filter):\n",
    "    def __init__(self, \n",
    "            func: Callable[[Molecule], Tuple[bool, dict]], # callable that takes a Molecule and returns (bool, dict)\n",
    "            name: str # filter name\n",
    "                ):\n",
    "        \"Filters based on the result of `func`. Data from function is added to the filter result\"\n",
    "        \n",
    "        self.name = name\n",
    "        self.func = func\n",
    "        \n",
    "    def __call__(self, molecule: Molecule) -> FilterResult:\n",
    "        result, data = self.func(molecule)\n",
    "        \n",
    "        return FilterResult(result, self.name, data)"
   ]
  },
  {
   "cell_type": "code",
   "execution_count": null,
   "metadata": {},
   "outputs": [],
   "source": [
    "from rdkit.Chem import rdMolDescriptors\n",
    "mol1 = Molecule('Cc1nnc2n1-c1ccc(Cl)cc1C(c1ccccc1)=NC2')\n",
    "mol2 = Molecule('CCCC')\n",
    "\n",
    "def filter_func(molecule):\n",
    "    n_rings = rdMolDescriptors.CalcNumRings(molecule.mol)\n",
    "    return n_rings>1\n",
    "\n",
    "f = BinaryFunctionFilter(filter_func, 'has_ring')\n",
    "\n",
    "assert f(mol1).filter_result\n",
    "assert not f(mol2).filter_result"
   ]
  },
  {
   "cell_type": "code",
   "execution_count": null,
   "metadata": {},
   "outputs": [],
   "source": [
    "#| export\n",
    "\n",
    "class RangeFunctionFilter(Filter):\n",
    "    def __init__(self, \n",
    "                 func:    Callable[[Molecule], Union[int, float]], # callable function, takes a Molecule as input, returns a numeric value\n",
    "                 name:    str, # filter name\n",
    "                 min_val: Union[int, float, None]=None, # min acceptable range value (if None, defaults to -inf)\n",
    "                 max_val: Union[int, float, None]=None  # max acceptable range value (if None, defaults to inf)\n",
    "                ):\n",
    "        \n",
    "        '''\n",
    "        `RangeFunctionFilter` passes a `Molecule` to `func`, then checks if the output is \n",
    "        between `min_val` and `max_val`\n",
    "        '''\n",
    "        \n",
    "        min_val, max_val = validate_range(min_val, max_val, float('-inf'), float('inf'))\n",
    "        \n",
    "        self.func = func\n",
    "        self.min_val = min_val\n",
    "        self.max_val = max_val\n",
    "        self.name = name\n",
    "                \n",
    "    def __call__(self, molecule: Molecule) -> FilterResult:\n",
    "        value = self.func(molecule)\n",
    "        data = {'computed_value' : value, 'min_val' : self.min_val, 'max_val' : self.max_val}\n",
    "        result = self.min_val <= value <= self.max_val\n",
    "        \n",
    "        return FilterResult(result, self.name, data)"
   ]
  },
  {
   "cell_type": "code",
   "execution_count": null,
   "metadata": {},
   "outputs": [],
   "source": [
    "from rdkit.Chem import rdMolDescriptors\n",
    "\n",
    "molwt = mol_func_wrapper(rdMolDescriptors.CalcExactMolWt)\n",
    "\n",
    "f = RangeFunctionFilter(molwt, 'molwt_filter', 250, 350)\n",
    "\n",
    "\n",
    "mol1 = Molecule('Cc1nnc2n1-c1ccc(Cl)cc1C(c1ccccc1)=NC2')\n",
    "mol2 = Molecule('CCCC')\n",
    "\n",
    "assert f(mol1).filter_result\n",
    "assert not f(mol2).filter_result"
   ]
  },
  {
   "cell_type": "code",
   "execution_count": null,
   "metadata": {},
   "outputs": [],
   "source": [
    "#| export\n",
    "\n",
    "class SmartsFilter(Filter):\n",
    "    def __init__(self, \n",
    "                 smarts:  str, # SMARTS string \n",
    "                 name:    str, # filter name\n",
    "                 exclude: bool=True, # if filter should be exclusion or inclusion\n",
    "                 min_val: Union[int, float, None]=None, # min number of occurences \n",
    "                 max_val: Union[int, float, None]=None # max number of occurences \n",
    "                ): \n",
    "        \n",
    "        '''\n",
    "        `SmartsFilter` checks to see if `smarts` is present in a Molecule. If \n",
    "        `min_val` and `max_val` are passed, the filter will check to see if the number \n",
    "        of occurences are between those values. If `exclude=True`, the filter will \n",
    "        fail molecules that match the filter. Otherwise, filter will fail molecules \n",
    "        that don't match the filter\n",
    "        '''\n",
    "        \n",
    "        min_val, max_val = validate_range(min_val, max_val, 1, int(1e8))\n",
    "        \n",
    "        self.smarts = smarts\n",
    "        self.name = name\n",
    "        self.exclude = exclude\n",
    "        self.min_val = min_val\n",
    "        self.max_val = max_val\n",
    "        self.smarts_matcher = SmartsMatcher(self.name, self.smarts, self.min_val, self.max_val)\n",
    "        \n",
    "    def has_match(self, molecule: Molecule) -> bool:\n",
    "        return self.smarts_matcher.HasMatch(molecule.mol)\n",
    "        \n",
    "    def __call__(self, molecule: Molecule) -> FilterResult:\n",
    "        \n",
    "        has_match = self.has_match(molecule)\n",
    "        result = not has_match if self.exclude else has_match\n",
    "        data = {'filter_result' : has_match}\n",
    "        \n",
    "        return FilterResult(result, self.name, data)"
   ]
  },
  {
   "cell_type": "code",
   "execution_count": null,
   "metadata": {},
   "outputs": [],
   "source": [
    "smarts = '[#6]1:[#6]:[#6]:[#6]:[#6]:[#6]:1'\n",
    "\n",
    "f1 = SmartsFilter(smarts, 'one_phenyl', min_val=1, max_val=1)\n",
    "f2 = SmartsFilter(smarts, 'two_phenyl', min_val=2)\n",
    "\n",
    "smiles = [\n",
    "    'c1ccccc1',\n",
    "    'Cc1cc(NC)cnc1',\n",
    "    'Cc1cccc(NCc2ccccc2)c1'\n",
    "]\n",
    "\n",
    "molecules = [Molecule(i) for i in smiles]\n",
    "\n",
    "assert f1.has_match(molecules[0])\n",
    "assert not f1.has_match(molecules[1])\n",
    "assert not f1.has_match(molecules[2])\n",
    "\n",
    "assert not f2.has_match(molecules[0])\n",
    "assert not f2.has_match(molecules[1])\n",
    "assert f2.has_match(molecules[2])"
   ]
  },
  {
   "cell_type": "code",
   "execution_count": null,
   "metadata": {},
   "outputs": [],
   "source": [
    "#| export\n",
    "\n",
    "class CatalogFilter(Filter):\n",
    "    def __init__(self, \n",
    "                 catalog: Catalog, # SMARTS catalog\n",
    "                 name:    str, # filter name\n",
    "                 exclude: bool=True # if filter should be exclusion or inclusion\n",
    "                ):\n",
    "        \n",
    "        '''\n",
    "        `CatalogFilter` checks to see if a molecule has a match against the provided `Catalog`. \n",
    "        If `exclude=True`, matching molecules fail the filter. Otherwise, matching molecules will pass\n",
    "        '''\n",
    "        \n",
    "        self.catalog = catalog\n",
    "        self.name = name\n",
    "        self.exclude = exclude\n",
    "        \n",
    "    def has_match(self, molecule: Molecule) -> bool:\n",
    "        return self.catalog.has_match(molecule)\n",
    "        \n",
    "    def __call__(self, molecule: Molecule) -> FilterResult:\n",
    "        has_match = self.has_match(molecule)\n",
    "        result = not has_match if self.exclude else has_match\n",
    "        data = {'filter_result' : has_match}\n",
    "        \n",
    "        return FilterResult(result, self.name, data)"
   ]
  },
  {
   "cell_type": "code",
   "execution_count": null,
   "metadata": {},
   "outputs": [],
   "source": [
    "from rdkit.Chem.FilterCatalog import FilterCatalogParams\n",
    "\n",
    "catalog = Catalog.from_params(FilterCatalogParams.FilterCatalogs.PAINS)\n",
    "f = CatalogFilter(catalog, 'pains')\n",
    "molecule = Molecule('c1ccccc1N=Nc1ccccc1')\n",
    "\n",
    "assert f.has_match(molecule)\n",
    "assert not f(molecule).filter_result"
   ]
  },
  {
   "cell_type": "code",
   "execution_count": null,
   "metadata": {},
   "outputs": [],
   "source": [
    "#| hide\n",
    "import nbdev; nbdev.nbdev_export()"
   ]
  },
  {
   "cell_type": "code",
   "execution_count": null,
   "metadata": {},
   "outputs": [],
   "source": []
  },
  {
   "cell_type": "code",
   "execution_count": null,
   "metadata": {},
   "outputs": [],
   "source": []
  }
 ],
 "metadata": {
  "kernelspec": {
   "display_name": "chem_templates",
   "language": "python",
   "name": "chem_templates"
  }
 },
 "nbformat": 4,
 "nbformat_minor": 4
}
