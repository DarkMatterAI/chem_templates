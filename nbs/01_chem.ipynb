{
 "cells": [
  {
   "cell_type": "markdown",
   "metadata": {},
   "source": [
    "# Chem\n",
    "\n",
    "> Chemistry related functions"
   ]
  },
  {
   "cell_type": "code",
   "execution_count": null,
   "metadata": {},
   "outputs": [],
   "source": [
    "#| default_exp chem"
   ]
  },
  {
   "cell_type": "code",
   "execution_count": null,
   "metadata": {},
   "outputs": [],
   "source": [
    "#| hide\n",
    "from nbdev.showdoc import *\n",
    "%load_ext autoreload\n",
    "%autoreload 2"
   ]
  },
  {
   "cell_type": "code",
   "execution_count": null,
   "metadata": {},
   "outputs": [],
   "source": [
    "#| export\n",
    "from chem_templates.imports import *\n",
    "from chem_templates.utils import *\n",
    "import rdkit\n",
    "from rdkit import Chem"
   ]
  },
  {
   "cell_type": "markdown",
   "metadata": {},
   "source": [
    "## RDKit i/o\n",
    "\n",
    "Functions for converting between SMILES strings and RDKit mol objects"
   ]
  },
  {
   "cell_type": "code",
   "execution_count": null,
   "metadata": {},
   "outputs": [],
   "source": [
    "#| export\n",
    "def to_mol(smile):\n",
    "    if (type(smile) == str) or (type(smile) == np.str_):\n",
    "        mol = Chem.MolFromSmiles(smile)\n",
    "        if mol is not None:\n",
    "            try:\n",
    "                Chem.SanitizeMol(mol)\n",
    "            except:\n",
    "                mol = None\n",
    "    else:\n",
    "        mol = smile\n",
    "        \n",
    "    return mol\n",
    "\n",
    "def to_smile(mol):\n",
    "    \n",
    "    if type(mol)==Chem.Mol:\n",
    "        smile = Chem.MolToSmiles(mol)\n",
    "    else:\n",
    "        smile = mol\n",
    "        \n",
    "    return smile\n",
    "\n",
    "def to_kekule(smile):\n",
    "    \n",
    "    return Chem.MolToSmiles(to_mol(smile), kekuleSmiles=True)\n",
    "\n",
    "def canon_smile(smile):\n",
    "    try:\n",
    "        return Chem.CanonSmiles(smile)\n",
    "    except:\n",
    "        return ''\n",
    "\n",
    "def remove_stereo(smile):\n",
    "    smile = to_smile(smile)\n",
    "    if '@' in smile:\n",
    "        mol = to_mol(smile)\n",
    "        if mol is not None:\n",
    "            Chem.rdmolops.RemoveStereochemistry(mol)\n",
    "            smile = to_smile(mol)\n",
    "        else:\n",
    "            smile = ''\n",
    "    return smile"
   ]
  },
  {
   "cell_type": "code",
   "execution_count": null,
   "metadata": {},
   "outputs": [],
   "source": [
    "assert type(to_smile('CCC')) == str\n",
    "assert type(to_mol('CCC')) == Chem.Mol\n",
    "assert type(to_smile(Chem.MolFromSmiles('CCC'))) == str\n",
    "assert type(to_mol(Chem.MolFromSmiles('CCC'))) == Chem.Mol"
   ]
  },
  {
   "cell_type": "code",
   "execution_count": null,
   "metadata": {},
   "outputs": [],
   "source": [
    "#| export\n",
    "class Molecule():\n",
    "    def __init__(self, smile, data=None):\n",
    "        self.smile = canon_smile(smile)\n",
    "        self.mol = to_mol(self.smile)\n",
    "        self.valid = (self.mol is not None) and (self.smile != '')\n",
    "        \n",
    "        self.data = {}\n",
    "        self.add_data(data)\n",
    "            \n",
    "    def add_data(self, data):\n",
    "        if data is not None:\n",
    "            self.data.update(data)"
   ]
  },
  {
   "cell_type": "code",
   "execution_count": null,
   "metadata": {},
   "outputs": [],
   "source": [
    "#| export\n",
    "class Reaction():\n",
    "    def __init__(self, reaction_smarts):\n",
    "        self.reaction_smarts = reaction_smarts\n",
    "        self.reaction = AllChem.ReactionFromSmarts(self.reaction_smarts)"
   ]
  },
  {
   "cell_type": "code",
   "execution_count": null,
   "metadata": {},
   "outputs": [],
   "source": [
    "#| hide\n",
    "import nbdev; nbdev.nbdev_export()"
   ]
  },
  {
   "cell_type": "code",
   "execution_count": null,
   "metadata": {},
   "outputs": [],
   "source": []
  }
 ],
 "metadata": {
  "kernelspec": {
   "display_name": "chem_templates",
   "language": "python",
   "name": "chem_templates"
  }
 },
 "nbformat": 4,
 "nbformat_minor": 4
}
