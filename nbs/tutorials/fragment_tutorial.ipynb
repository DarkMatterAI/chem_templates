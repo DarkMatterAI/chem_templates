{
 "cells": [
  {
   "cell_type": "markdown",
   "id": "8f1645ec",
   "metadata": {},
   "source": [
    "# Fragment Tutorial\n",
    "\n",
    "> How to assemble fragments with templates"
   ]
  },
  {
   "cell_type": "markdown",
   "id": "a010a79b",
   "metadata": {},
   "source": [
    "This tutorial shows how to use `chem_templates` fragment assembly to build highly targeted molecular libraries.\n",
    "\n",
    "We can use a `Template` to define a series of pass/fail criteria for a single molecule, giving us control over chemical space. But what if we want more fine-grained control over the structure? What if we want molecules that conform to the pattern `[R1]-[linker]-[scaffold]`, with a specific `Template` for each of those sections?\n",
    "\n",
    "This is challenging from a top-down approach because it requires figuring out how to map arbitrary molecules to the `[R1]-[linker]-[scaffold]`, which involves a dizzying amount of SMARTS definitions. A much easier way is to assemble molecules from the bottom up, ensuring that each fragment in the assembly matches the desired chemotype.\n",
    "\n",
    "We can accomplish this with the following steps:\n",
    "1. define templates\n",
    "2. define assembly schema\n",
    "3. create fragment library\n",
    "4. assemble molecules"
   ]
  },
  {
   "cell_type": "markdown",
   "id": "0f071307",
   "metadata": {},
   "source": [
    "## Defining Templates\n",
    "\n",
    "First we need to define templates for our assembly schema. We want molecules to conform to `[R1]-[linker]-[scaffold]`. We will define separate templates for `R1`, `linker`, `scaffold` and the full assembled molecule:\n",
    "\n",
    "R1 template:\n",
    "* 1 ring\n",
    "* no rotatable bonds\n",
    "\n",
    "Linker template:\n",
    "* no rings\n",
    "* at most 4 rotatable bonds\n",
    "* at most 60 g/mol\n",
    "\n",
    "Scaffold template:\n",
    "* 2 rings\n",
    "* at most 250 g/mol\n",
    "\n",
    "Full molecule template:\n",
    "* Valid compound\n",
    "* Single compound\n",
    "* <= 8 rotatable bonds\n",
    "* <=5 hydrogen bond donors\n",
    "* <=10 hydrogen bond acceptors\n",
    "* <= 500 g/mol\n",
    "* <= 5 ClogP"
   ]
  },
  {
   "cell_type": "code",
   "execution_count": null,
   "id": "a654f35a",
   "metadata": {},
   "outputs": [],
   "source": [
    "from chem_templates.chem import Molecule\n",
    "from chem_templates.fragments import shred_smiles\n",
    "from chem_templates.assembly import AssemblyInputs, FragmentNode, FragmentLeafNode\n",
    "from chem_templates.filter import RangeFunctionFilter, ValidityFilter, SingleCompoundFilter, Template\n",
    "\n",
    "from rdkit.Chem import rdMolDescriptors, Descriptors\n",
    "from rdkit.Chem import Draw"
   ]
  },
  {
   "cell_type": "code",
   "execution_count": null,
   "id": "849d8420",
   "metadata": {},
   "outputs": [],
   "source": [
    "def rings(molecule):\n",
    "    return rdMolDescriptors.CalcNumRings(molecule.mol)\n",
    "\n",
    "def hbd(molecule):\n",
    "    return rdMolDescriptors.CalcNumHBD(molecule.mol)\n",
    "\n",
    "def hba(molecule):\n",
    "    return rdMolDescriptors.CalcNumHBA(molecule.mol)\n",
    "\n",
    "def molwt(molecule):\n",
    "    return rdMolDescriptors.CalcExactMolWt(molecule.mol)\n",
    "\n",
    "def logp(molecule):\n",
    "    return Descriptors.MolLogP(molecule.mol)\n",
    "\n",
    "def rotb(molecule):\n",
    "    return rdMolDescriptors.CalcNumRotatableBonds(molecule.mol)"
   ]
  },
  {
   "cell_type": "code",
   "execution_count": null,
   "id": "3bc81947",
   "metadata": {},
   "outputs": [],
   "source": [
    "r1_template = Template([\n",
    "    RangeFunctionFilter(rings, 'rings', 1, 1),\n",
    "    RangeFunctionFilter(rotb, 'rotatable_bonds', 0, 0)\n",
    "])\n",
    "\n",
    "linker_template = Template([\n",
    "    RangeFunctionFilter(rings, 'rings', 0, 0),\n",
    "    RangeFunctionFilter(rotb, 'rotatable_bonds', None, 4),\n",
    "    RangeFunctionFilter(molwt, 'mol_wt', None, 60)\n",
    "])\n",
    "\n",
    "scaffold_template = Template([\n",
    "    RangeFunctionFilter(rings, 'rings', 2, 2),\n",
    "    RangeFunctionFilter(molwt, 'mol_wt', None, 250)\n",
    "])\n",
    "\n",
    "full_template = Template([\n",
    "    ValidityFilter(),\n",
    "    SingleCompoundFilter(),\n",
    "    RangeFunctionFilter(rotb, 'rotatable_bonds', None, 8),\n",
    "    RangeFunctionFilter(hbd, 'hydrogen_bond_donors', None, 5),\n",
    "    RangeFunctionFilter(hba, 'hydrogen_bond_acceptors', None, 10),\n",
    "    RangeFunctionFilter(molwt, 'mol_wt', None, 500),\n",
    "    RangeFunctionFilter(logp, 'clogp', None, 5)\n",
    "])"
   ]
  },
  {
   "cell_type": "markdown",
   "id": "1998dd51",
   "metadata": {},
   "source": [
    "## Define Assembly Schema\n",
    "\n",
    "Now we define how the fragments will fit together. First we define our leaf nodes with the `FragmentLeafNode` class. Each leaf node is given a name, a set of `mapping_idxs`, and a template.\n",
    "\n",
    "The `mapping_idxs` define how fragments are mapped and assembled. Mappings are implemented as an annotation on dummy atoms, ie `[*:1]C` would be a carbon atom with a single mapping with `1` as the mapping index.\n",
    "\n",
    "For this schema, we will use the following mappings:\n",
    "* R1 - `[1]`\n",
    "* Linker - `[1,2]`\n",
    "* Scaffold - `[2]`\n",
    "\n",
    "This tells us that all `R1` fragments should have a single mapping with `1` as the index - ie `[*:1][R1]`.\n",
    "\n",
    "Linker fragments should have two mappings with `1` and `2` as the index values  - ie `[*:1][linker][*:2]`\n",
    "\n",
    "Scaffold fragments should have one mapping with `2` as the index - ie `[*:2][scaffold]`\n",
    "\n",
    "These will be assembled as `[R1]-[*:1]-[linker]-[*:2]-[scaffold] -> [R1]-[linker]-[scaffold]`"
   ]
  },
  {
   "cell_type": "code",
   "execution_count": null,
   "id": "0317d760",
   "metadata": {},
   "outputs": [],
   "source": [
    "R1 = FragmentLeafNode('R1', [1], template=r1_template)\n",
    "linker = FragmentLeafNode('L1', [1, 2], template=linker_template)\n",
    "scaffold = FragmentLeafNode('scaffold', [2], template=scaffold_template)"
   ]
  },
  {
   "cell_type": "markdown",
   "id": "c307b441",
   "metadata": {},
   "source": [
    "Now we need to define how to assemble these fragments. We can do this with the `FragmentNode` class:"
   ]
  },
  {
   "cell_type": "code",
   "execution_count": null,
   "id": "847545de",
   "metadata": {},
   "outputs": [],
   "source": [
    "full_molecule = FragmentNode('full_molecule', [scaffold, R1, linker], template=full_template)"
   ]
  },
  {
   "cell_type": "markdown",
   "id": "a6926b3f",
   "metadata": {},
   "source": [
    "This will fuse our three leaf nodes into a single molecule. We can validate our assembly by checking the `dummy_mol` object of the full molecule node:"
   ]
  },
  {
   "cell_type": "code",
   "execution_count": null,
   "id": "714d3995",
   "metadata": {},
   "outputs": [
    {
     "data": {
      "image/png": "[encoded data removed]",
      "text/plain": [
       "<PIL.PngImagePlugin.PngImageFile image mode=RGB size=300x300>"
      ]
     },
     "execution_count": null,
     "metadata": {},
     "output_type": "execute_result"
    }
   ],
   "source": [
    "Draw.MolToImage(full_molecule.dummy)"
   ]
  },
  {
   "cell_type": "markdown",
   "id": "aa05dbe1",
   "metadata": {},
   "source": [
    "We used the most simple assembly:\n",
    "\n",
    "```python\n",
    "full_molecule = FragmentNode('full_molecule', [scaffold, R1, linker], template=full_template)\n",
    "```\n",
    "\n",
    "This grabs our three leaf nodes and assembles them all at once.\n",
    "\n",
    "If we wanted, we could use more intermediate nodes to give more control. Say we wanted to add another template check on `[R1]-[linker]`, we could do that with another intermediate node:\n",
    "\n",
    "```python\n",
    "r1_linker_fused = FragmentNode('r1_linker_fused', [R1, linker], template=r1_fused_template)\n",
    "full_molecule = FragmentNode('full_molecule', [scaffold, r1_linker_fused], template=full_template)\n",
    "```\n",
    "\n",
    "Or we could have an intermediate node for `[linker]-[scaffold]`:\n",
    "\n",
    "```python\n",
    "linker_scaffold_fused = FragmentNode('linker_scaffold_fused', [scaffold, linker], template=linker_scaffold_fused_template)\n",
    "full_molecule = FragmentNode('full_molecule', [linker_scaffold_fused, R1], template=full_template)\n",
    "```\n",
    "\n",
    "In practice, you should add an intermediate node whenever you think another template would be useful"
   ]
  },
  {
   "cell_type": "markdown",
   "id": "9f3a6ca4",
   "metadata": {},
   "source": [
    "## Create Fragment Library\n",
    "\n",
    "Now we need some fragments. To make things easy, we'll take a set list of SMILES and shred them to create fragments"
   ]
  },
  {
   "cell_type": "code",
   "execution_count": null,
   "id": "aed3bb23",
   "metadata": {},
   "outputs": [],
   "source": [
    "smiles = ['CNc1nc(SCC(=O)Nc2cc(Cl)ccc2OC)nc2ccccc12',\n",
    "       'COc1ccc(C(=O)Oc2ccc(/C=C3\\\\C(=N)N4OC(C)=CC4=NC3=O)cc2OC)cc1',\n",
    "       'Cc1sc(NC(=O)c2ccccc2)c(C(N)=O)c1C',\n",
    "       'COc1ccc(NCc2noc(-c3ccoc3)n2)cc1OC(F)F',\n",
    "       'O=C(COC(=O)c1cccc(Br)c1)c1ccc2c(c1)OCCCO2',\n",
    "       'CCOC(=O)c1nc2ccccc2nc1N1CCN(c2ccc(OC)cc2)CC1',\n",
    "       'CC(=O)c1cc2c(N)c(C(=O)Nc3cccc4nsnc34)sc2nc1C',\n",
    "       'O=C(NCCc1csc(-c2ccccc2)n1)Nc1ccc2[nH]ccc2c1',\n",
    "       'CC(=O)c1ccc(NC(=O)Cn2c(=O)n(-c3ccc(F)cc3)c(=O)c3oc4ccccc4c32)cc1',\n",
    "       'O=C(NCCC[NH+]1Cc2ccccc2C1)c1cccc(Cn2cccn2)c1',\n",
    "       'O=C1CC(C(=O)Nc2ccc3c(c2)OCCO3)=c2ccccc2=[NH+]1',\n",
    "       'O=C(CSCc1ccc(F)cc1Cl)Nn1c(=S)[nH]c2sc3c(c2c1=O)CCC3',\n",
    "       'CN(CCS(C)(=O)=O)CC(=O)c1ccc2c(c1)CCC2',\n",
    "       'Cc1nn2ccccc2c1C(=O)N1CCN(C(=O)NC(C)C)CC1',\n",
    "       'CCN(CCO)c1ncnc(Nc2ccc(C)cc2C)c1N',\n",
    "       'O=C(COc1ccc(Cl)cc1Cl)Nc1ccc(S(=O)(=O)N2CCOCC2)cc1',\n",
    "       'COc1ccc(-c2ccc(=O)n(CCCC(=O)NC3CCCC3)n2)cc1',\n",
    "       'CCOc1cc(NC(=O)c2cccnc2Cl)ccc1OC',\n",
    "       'CCc1nn(C)cc1CNC(=O)CNC(=O)c1cccc([N+](=O)[O-])c1',\n",
    "       'Cc1ccc(CNC(=O)c2ccccc2NC(=O)c2ccc(NC(=O)C(C)C)cc2)cc1']"
   ]
  },
  {
   "cell_type": "code",
   "execution_count": null,
   "id": "37d66c36",
   "metadata": {},
   "outputs": [
    {
     "name": "stdout",
     "output_type": "stream",
     "text": [
      "0 20\n",
      "1 368\n",
      "2 45\n",
      "3 8\n"
     ]
    },
    {
     "data": {
      "text/plain": [
       "437"
      ]
     },
     "execution_count": null,
     "metadata": {},
     "output_type": "execute_result"
    }
   ],
   "source": [
    "frags = shred_smiles(smiles, [1,2,3], 25, 4, False)\n",
    "len(frags)"
   ]
  },
  {
   "cell_type": "markdown",
   "id": "6fcac868",
   "metadata": {},
   "source": [
    "## Assemble Molecules\n",
    "\n",
    "Now we do the assembly itself. First we run `full_molecule.build_assembly_pools`. This gives us a dictionary of `AssemblyPool` objects holding fragments that match the template for each leaf node.\n",
    "\n",
    "Then we create our `AssemblyInputs` and pass them to `full_molecule.assemble`. The result is a pool of molecules that all conform to our `[R1]-[linker]-[scaffold]` chemotype and match each template we created above"
   ]
  },
  {
   "cell_type": "code",
   "execution_count": null,
   "id": "dc381108",
   "metadata": {},
   "outputs": [],
   "source": [
    "frag_molecules = [Molecule(i) for i in frags]"
   ]
  },
  {
   "cell_type": "code",
   "execution_count": null,
   "id": "5494ae50",
   "metadata": {},
   "outputs": [
    {
     "data": {
      "text/plain": [
       "{'L1': AssemblyPool: 41 items,\n",
       " 'R1': AssemblyPool: 11 items,\n",
       " 'scaffold': AssemblyPool: 33 items}"
      ]
     },
     "execution_count": null,
     "metadata": {},
     "output_type": "execute_result"
    }
   ],
   "source": [
    "assembly_dict = full_molecule.build_assembly_pools(frag_molecules)\n",
    "assembly_dict"
   ]
  },
  {
   "cell_type": "code",
   "execution_count": null,
   "id": "dea4eeb0",
   "metadata": {},
   "outputs": [],
   "source": [
    "assembly_inputs = AssemblyInputs(assembly_dict, 1000, 5000)"
   ]
  },
  {
   "cell_type": "code",
   "execution_count": null,
   "id": "9d284862",
   "metadata": {},
   "outputs": [
    {
     "name": "stdout",
     "output_type": "stream",
     "text": [
      "scaffold\n",
      "R1\n",
      "L1\n",
      "full_molecule\n"
     ]
    },
    {
     "data": {
      "text/plain": [
       "AssemblyPool: 5659 items"
      ]
     },
     "execution_count": null,
     "metadata": {},
     "output_type": "execute_result"
    }
   ],
   "source": [
    "assembled = full_molecule.assemble(assembly_inputs)\n",
    "assembled"
   ]
  },
  {
   "cell_type": "code",
   "execution_count": null,
   "id": "9934ddce",
   "metadata": {},
   "outputs": [
    {
     "data": {
      "image/png": "[encoded data removed]",
      "text/plain": [
       "<PIL.PngImagePlugin.PngImageFile image mode=RGB size=300x300>"
      ]
     },
     "execution_count": null,
     "metadata": {},
     "output_type": "execute_result"
    }
   ],
   "source": [
    "Draw.MolToImage(assembled[0].mol)"
   ]
  },
  {
   "cell_type": "code",
   "execution_count": null,
   "id": "8a6e66c3",
   "metadata": {},
   "outputs": [],
   "source": []
  }
 ],
 "metadata": {
  "kernelspec": {
   "display_name": "python3",
   "language": "python",
   "name": "python3"
  }
 },
 "nbformat": 4,
 "nbformat_minor": 5
}
